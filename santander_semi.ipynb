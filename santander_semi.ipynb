{
 "cells": [
  {
   "cell_type": "code",
   "execution_count": 2,
   "metadata": {},
   "outputs": [],
   "source": [
    "import pandas as pd\n",
    "import numpy as np\n",
    "from numpy import mean,std,max,min\n",
    "\n",
    "from sklearn.model_selection import train_test_split\n",
    "from sklearn.metrics import roc_auc_score\n",
    "from sklearn.ensemble import ExtraTreesClassifier\n",
    "from sklearn.feature_selection import SelectFromModel\n",
    "from sklearn.calibration import CalibratedClassifierCV\n",
    "from sklearn.preprocessing import normalize\n",
    "from sklearn.decomposition import PCA\n",
    "\n",
    "import xgboost as xgb"
   ]
  },
  {
   "cell_type": "code",
   "metadata": {
    "ExecuteTime": {
     "end_time": "2024-08-05T13:42:30.082976Z",
     "start_time": "2024-08-05T13:42:30.071110Z"
    }
   },
   "source": [
    "import warnings\n",
    "warnings.filterwarnings(\"ignore\")"
   ],
   "outputs": [],
   "execution_count": 1
  },
  {
   "cell_type": "code",
   "execution_count": 20,
   "metadata": {},
   "outputs": [],
   "source": [
    "train = pd.read_csv(\"../data/santander-customer-satisfaction/train.csv\")\n",
    "test = pd.read_csv(\"../data/santander-customer-satisfaction/test.csv\")\n",
    "test_final = pd.read_csv('../data/santander-customer-satisfaction/test.csv')"
   ]
  },
  {
   "cell_type": "code",
   "execution_count": 21,
   "metadata": {},
   "outputs": [],
   "source": [
    "# remove constant columns (std = 0)\n",
    "remove = []\n",
    "for col in train.columns:\n",
    "    if train[col].std() == 0:\n",
    "        remove.append(col)\n",
    "\n",
    "train.drop(remove, axis=1, inplace=True)\n",
    "test.drop(remove, axis=1, inplace=True)\n",
    "\n"
   ]
  },
  {
   "cell_type": "code",
   "execution_count": 22,
   "metadata": {},
   "outputs": [],
   "source": [
    "# remove duplicated columns\n",
    "remove = []\n",
    "cols = train.columns\n",
    "for i in range(len(cols)-1):\n",
    "    v = train[cols[i]].values\n",
    "    for j in range(i+1,len(cols)):\n",
    "        if np.array_equal(v,train[cols[j]].values):\n",
    "            remove.append(cols[j])\n",
    "\n",
    "train.drop(remove, axis=1, inplace=True)\n",
    "test.drop(remove, axis=1, inplace=True)"
   ]
  },
  {
   "cell_type": "code",
   "execution_count": 23,
   "metadata": {},
   "outputs": [
    {
     "name": "stderr",
     "output_type": "stream",
     "text": [
      "C:\\Users\\salva\\AppData\\Local\\Temp\\ipykernel_32268\\2235012859.py:17: FutureWarning: Setting an item of incompatible dtype is deprecated and will raise an error in a future version of pandas. Value '145384.92' has dtype incompatible with int64, please explicitly cast to a compatible dtype first.\n",
      "  test.loc[test[f] > lim, f] = lim\n",
      "C:\\Users\\salva\\AppData\\Local\\Temp\\ipykernel_32268\\2235012859.py:17: FutureWarning: Setting an item of incompatible dtype is deprecated and will raise an error in a future version of pandas. Value '12027.15' has dtype incompatible with int64, please explicitly cast to a compatible dtype first.\n",
      "  test.loc[test[f] > lim, f] = lim\n",
      "C:\\Users\\salva\\AppData\\Local\\Temp\\ipykernel_32268\\2235012859.py:17: FutureWarning: Setting an item of incompatible dtype is deprecated and will raise an error in a future version of pandas. Value '69622.29' has dtype incompatible with int64, please explicitly cast to a compatible dtype first.\n",
      "  test.loc[test[f] > lim, f] = lim\n",
      "C:\\Users\\salva\\AppData\\Local\\Temp\\ipykernel_32268\\2235012859.py:17: FutureWarning: Setting an item of incompatible dtype is deprecated and will raise an error in a future version of pandas. Value '145.2' has dtype incompatible with int64, please explicitly cast to a compatible dtype first.\n",
      "  test.loc[test[f] > lim, f] = lim\n"
     ]
    },
    {
     "name": "stdout",
     "output_type": "stream",
     "text": [
      "[0.07773946 0.05429553 0.04157067]\n"
     ]
    }
   ],
   "source": [
    "# split data into train and test\n",
    "test_id = test.ID\n",
    "#test = test.drop([\"ID\"],axis=1)\n",
    "\n",
    "#Lets include the ID as well\n",
    "X = train.drop([\"TARGET\"],axis=1)\n",
    "y = train.TARGET.values\n",
    "\n",
    "features = train.columns[1:-1]\n",
    "\n",
    "#Setting up min-max limits\n",
    "\n",
    "for f in features:\n",
    "    lim = min(train[f])\n",
    "    test.loc[test[f] < lim, f] = lim\n",
    "    lim = max(train[f])\n",
    "    test.loc[test[f] > lim, f] = lim\n",
    "    \n",
    "# pca\n",
    "pca = PCA(n_components=3)\n",
    "x_train_projected = pca.fit_transform(normalize(train[features], axis=0))\n",
    "x_test_projected = pca.transform(normalize(test[features], axis=0))\n",
    "print(pca.explained_variance_ratio_)\n",
    "X.insert(1, 'PCAOne', x_train_projected[:, 0])\n",
    "X.insert(1, 'PCATwo', x_train_projected[:, 1])\n",
    "X.insert(1, 'PCAThree', x_train_projected[:, 2])\n",
    "\n",
    "\n",
    "\n",
    "test.insert(1, 'PCAOne', x_test_projected[:, 0])\n",
    "test.insert(1, 'PCATwo', x_test_projected[:, 1])\n",
    "test.insert(1, 'PCAThree', x_test_projected[:, 2])"
   ]
  },
  {
   "cell_type": "code",
   "execution_count": 24,
   "metadata": {},
   "outputs": [
    {
     "name": "stderr",
     "output_type": "stream",
     "text": [
      "c:\\ProgramData\\anaconda3\\envs\\ml-dev\\lib\\site-packages\\sklearn\\base.py:486: UserWarning: X has feature names, but SelectFromModel was fitted without feature names\n",
      "  warnings.warn(\n",
      "c:\\ProgramData\\anaconda3\\envs\\ml-dev\\lib\\site-packages\\sklearn\\base.py:486: UserWarning: X has feature names, but SelectFromModel was fitted without feature names\n",
      "  warnings.warn(\n"
     ]
    },
    {
     "name": "stdout",
     "output_type": "stream",
     "text": [
      "(76020, 42) (75818, 42)\n"
     ]
    }
   ],
   "source": [
    "clf = ExtraTreesClassifier(random_state=1729,bootstrap =True,class_weight = \"balanced\")\n",
    "selector = clf.fit(normalize(X), y)\n",
    "# clf.feature_importances_\n",
    "fs = SelectFromModel(selector, prefit=True)\n",
    "\n",
    "X = fs.transform(X)\n",
    "test = fs.transform(test)\n",
    "\n",
    "print(X.shape,  test.shape)"
   ]
  },
  {
   "cell_type": "code",
   "execution_count": 25,
   "metadata": {},
   "outputs": [
    {
     "name": "stdout",
     "output_type": "stream",
     "text": [
      "0.8895737642333059\n"
     ]
    }
   ],
   "source": [
    "#m2_xgb = xgb.XGBClassifier(n_estimators=110, nthread=-1, max_depth = 4, \\\n",
    "#seed=1729)\n",
    "m2_xgb = xgb.XGBClassifier(missing=np.nan, max_depth=5, \n",
    "n_estimators=560, learning_rate=0.0202048, nthread=4, subsample=0.6815,\n",
    "colsample_bytree=0.701, seed=4242)\n",
    "metLearn = CalibratedClassifierCV(m2_xgb, method='isotonic', cv=10)\n",
    "metLearn.fit(X,y)\n",
    "\n",
    "# training Auc Score\n",
    "print(roc_auc_score(y,metLearn.predict_proba(X)[:,1]))"
   ]
  },
  {
   "cell_type": "code",
   "execution_count": 26,
   "metadata": {},
   "outputs": [],
   "source": [
    "## # Submission\n",
    "probs = metLearn.predict_proba(test)\n",
    "test_final['TARGET'] = probs[:,1]\n",
    "test_final['nv'] = test_final['num_var33']+test_final['saldo_medio_var33_ult3']+test_final['saldo_medio_var44_hace2']+test_final['saldo_medio_var44_hace3']+test_final['saldo_medio_var33_ult1']+test_final['saldo_medio_var44_ult1']\n",
    "test_final.loc[test_final.nv > 0, 'TARGET'] =0\n",
    "test_final.loc[test_final.var15 < 23, 'TARGET'] = 0\n",
    "test_final.loc[test_final.saldo_medio_var5_hace2 > 160000, 'TARGET'] = 0\n",
    "test_final.loc[test_final.saldo_var33 > 0, 'TARGET'] = 0\n",
    "test_final.loc[test_final.var38 > 3988596, 'TARGET'] = 0\n",
    "test_final.loc[test_final.var21 > 7500, 'TARGET'] = 0\n",
    "test_final.loc[test_final.num_var30 > 9, 'TARGET'] = 0\n",
    "test_final.loc[test_final.num_var13_0 > 6, 'TARGET'] = 0\n",
    "test_final.loc[test_final.num_var33_0 > 0, 'TARGET'] = 0\n",
    "test_final.loc[test_final.imp_ent_var16_ult1 > 51003, 'TARGET'] = 0\n",
    "test_final.loc[test_final.imp_op_var39_comer_ult3 > 13184, 'TARGET'] = 0\n",
    "test_final.loc[test_final.saldo_medio_var5_ult3 > 108251, 'TARGET'] = 0\n",
    "test_final.loc[(test_final['var15']+test_final['num_var45_hace3']+test_final['num_var45_ult3']+test_final['var36']) <= 24, 'TARGET'] = 0\n",
    "test_final.loc[test_final.saldo_var5 > 137615, 'TARGET'] = 0\n",
    "test_final.loc[test_final.saldo_var14 > 19053.78, 'TARGET'] = 0\n",
    "test_final.loc[test_final.saldo_var17> 288188.97, 'TARGET'] = 0\n",
    "test_final.loc[test_final.saldo_var26 > 10381.29, 'TARGET'] = 0\n",
    "\n",
    "# Lets try some hard coding\n",
    "test_final.loc[test_final['TARGET'] < 0.0002, 'TARGET'] = 0\n",
    "submission = pd.DataFrame({\"ID\":test_id, \"TARGET\": test_final['TARGET']})\n",
    "submission.to_csv(\"submission_def.csv\", index=False)"
   ]
  }
 ],
 "metadata": {
  "kernelspec": {
   "display_name": "ml-dev",
   "language": "python",
   "name": "python3"
  },
  "language_info": {
   "codemirror_mode": {
    "name": "ipython",
    "version": 3
   },
   "file_extension": ".py",
   "mimetype": "text/x-python",
   "name": "python",
   "nbconvert_exporter": "python",
   "pygments_lexer": "ipython3",
   "version": "3.10.14"
  }
 },
 "nbformat": 4,
 "nbformat_minor": 2
}
