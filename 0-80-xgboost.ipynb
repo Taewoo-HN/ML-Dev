{
 "cells": [
  {
   "cell_type": "code",
   "execution_count": 1,
   "id": "77db9a0d",
   "metadata": {
    "execution": {
     "iopub.execute_input": "2024-08-04T16:40:20.165392Z",
     "iopub.status.busy": "2024-08-04T16:40:20.164967Z",
     "iopub.status.idle": "2024-08-04T16:40:21.148243Z",
     "shell.execute_reply": "2024-08-04T16:40:21.147001Z"
    },
    "papermill": {
     "duration": 1.012356,
     "end_time": "2024-08-04T16:40:21.151200",
     "exception": false,
     "start_time": "2024-08-04T16:40:20.138844",
     "status": "completed"
    },
    "tags": []
   },
   "outputs": [],
   "source": [
    "import numpy as np\n",
    "import pandas as pd\n",
    "pd.options.mode.chained_assignment = None"
   ]
  },
  {
   "cell_type": "code",
   "execution_count": 2,
   "id": "85cd4016",
   "metadata": {
    "execution": {
     "iopub.execute_input": "2024-08-04T16:40:21.200001Z",
     "iopub.status.busy": "2024-08-04T16:40:21.199448Z",
     "iopub.status.idle": "2024-08-04T16:40:22.636675Z",
     "shell.execute_reply": "2024-08-04T16:40:22.635623Z"
    },
    "papermill": {
     "duration": 1.464557,
     "end_time": "2024-08-04T16:40:22.639574",
     "exception": false,
     "start_time": "2024-08-04T16:40:21.175017",
     "status": "completed"
    },
    "tags": []
   },
   "outputs": [],
   "source": [
    "import matplotlib.pyplot as plt\n",
    "import seaborn as sns\n",
    "palette = sns.color_palette('pastel')  "
   ]
  },
  {
   "cell_type": "code",
   "execution_count": 3,
   "id": "5ca142b5",
   "metadata": {
    "execution": {
     "iopub.execute_input": "2024-08-04T16:40:22.689380Z",
     "iopub.status.busy": "2024-08-04T16:40:22.688982Z",
     "iopub.status.idle": "2024-08-04T16:40:23.051581Z",
     "shell.execute_reply": "2024-08-04T16:40:23.050420Z"
    },
    "papermill": {
     "duration": 0.390805,
     "end_time": "2024-08-04T16:40:23.054382",
     "exception": false,
     "start_time": "2024-08-04T16:40:22.663577",
     "status": "completed"
    },
    "tags": []
   },
   "outputs": [],
   "source": [
    "from sklearn.model_selection import train_test_split\n",
    "from sklearn.preprocessing import RobustScaler, StandardScaler, QuantileTransformer"
   ]
  },
  {
   "cell_type": "code",
   "execution_count": 4,
   "id": "6e30331a",
   "metadata": {
    "execution": {
     "iopub.execute_input": "2024-08-04T16:40:23.102164Z",
     "iopub.status.busy": "2024-08-04T16:40:23.101717Z",
     "iopub.status.idle": "2024-08-04T16:40:23.107781Z",
     "shell.execute_reply": "2024-08-04T16:40:23.106574Z"
    },
    "papermill": {
     "duration": 0.032946,
     "end_time": "2024-08-04T16:40:23.110442",
     "exception": false,
     "start_time": "2024-08-04T16:40:23.077496",
     "status": "completed"
    },
    "tags": []
   },
   "outputs": [],
   "source": [
    "from sklearn.metrics import accuracy_score, confusion_matrix, roc_auc_score, f1_score\n",
    "from sklearn.preprocessing import LabelEncoder, OneHotEncoder"
   ]
  },
  {
   "cell_type": "code",
   "execution_count": 5,
   "id": "a0a17fe4",
   "metadata": {
    "execution": {
     "iopub.execute_input": "2024-08-04T16:40:23.158182Z",
     "iopub.status.busy": "2024-08-04T16:40:23.157389Z",
     "iopub.status.idle": "2024-08-04T16:40:23.359138Z",
     "shell.execute_reply": "2024-08-04T16:40:23.357980Z"
    },
    "papermill": {
     "duration": 0.22875,
     "end_time": "2024-08-04T16:40:23.362115",
     "exception": false,
     "start_time": "2024-08-04T16:40:23.133365",
     "status": "completed"
    },
    "tags": []
   },
   "outputs": [],
   "source": [
    "# Machine Learning\n",
    "from sklearn.model_selection import RepeatedStratifiedKFold, GridSearchCV , cross_val_score\n",
    "from xgboost import XGBClassifier"
   ]
  },
  {
   "cell_type": "code",
   "execution_count": 6,
   "id": "31964c14",
   "metadata": {
    "execution": {
     "iopub.execute_input": "2024-08-04T16:40:23.409983Z",
     "iopub.status.busy": "2024-08-04T16:40:23.409576Z",
     "iopub.status.idle": "2024-08-04T16:40:24.974538Z",
     "shell.execute_reply": "2024-08-04T16:40:24.973257Z"
    },
    "papermill": {
     "duration": 1.592412,
     "end_time": "2024-08-04T16:40:24.977472",
     "exception": false,
     "start_time": "2024-08-04T16:40:23.385060",
     "status": "completed"
    },
    "tags": []
   },
   "outputs": [],
   "source": [
    "from hyperopt import hp, fmin, tpe, Trials, STATUS_OK"
   ]
  },
  {
   "cell_type": "markdown",
   "id": "2153d868",
   "metadata": {
    "papermill": {
     "duration": 0.024671,
     "end_time": "2024-08-04T16:40:25.027038",
     "exception": false,
     "start_time": "2024-08-04T16:40:25.002367",
     "status": "completed"
    },
    "tags": []
   },
   "source": [
    "데이터 로딩 후 기본적 분석, 간단한 결측치 채우기"
   ]
  },
  {
   "cell_type": "code",
   "execution_count": 7,
   "id": "4a0a82f6",
   "metadata": {
    "execution": {
     "iopub.execute_input": "2024-08-04T16:40:25.078036Z",
     "iopub.status.busy": "2024-08-04T16:40:25.077585Z",
     "iopub.status.idle": "2024-08-04T16:40:25.113636Z",
     "shell.execute_reply": "2024-08-04T16:40:25.112322Z"
    },
    "papermill": {
     "duration": 0.067016,
     "end_time": "2024-08-04T16:40:25.116947",
     "exception": false,
     "start_time": "2024-08-04T16:40:25.049931",
     "status": "completed"
    },
    "tags": []
   },
   "outputs": [],
   "source": [
    "titanic_train = pd.read_csv('../input/titanic/train.csv') \n",
    "titanic_test = pd.read_csv('../input/titanic/test.csv')"
   ]
  },
  {
   "cell_type": "code",
   "execution_count": 8,
   "id": "5666f944",
   "metadata": {
    "execution": {
     "iopub.execute_input": "2024-08-04T16:40:25.168046Z",
     "iopub.status.busy": "2024-08-04T16:40:25.167573Z",
     "iopub.status.idle": "2024-08-04T16:40:25.202325Z",
     "shell.execute_reply": "2024-08-04T16:40:25.200655Z"
    },
    "papermill": {
     "duration": 0.064293,
     "end_time": "2024-08-04T16:40:25.205696",
     "exception": false,
     "start_time": "2024-08-04T16:40:25.141403",
     "status": "completed"
    },
    "tags": []
   },
   "outputs": [
    {
     "data": {
      "text/html": [
       "<div>\n",
       "<style scoped>\n",
       "    .dataframe tbody tr th:only-of-type {\n",
       "        vertical-align: middle;\n",
       "    }\n",
       "\n",
       "    .dataframe tbody tr th {\n",
       "        vertical-align: top;\n",
       "    }\n",
       "\n",
       "    .dataframe thead th {\n",
       "        text-align: right;\n",
       "    }\n",
       "</style>\n",
       "<table border=\"1\" class=\"dataframe\">\n",
       "  <thead>\n",
       "    <tr style=\"text-align: right;\">\n",
       "      <th></th>\n",
       "      <th>PassengerId</th>\n",
       "      <th>Survived</th>\n",
       "      <th>Pclass</th>\n",
       "      <th>Name</th>\n",
       "      <th>Sex</th>\n",
       "      <th>Age</th>\n",
       "      <th>SibSp</th>\n",
       "      <th>Parch</th>\n",
       "      <th>Ticket</th>\n",
       "      <th>Fare</th>\n",
       "      <th>Cabin</th>\n",
       "      <th>Embarked</th>\n",
       "    </tr>\n",
       "  </thead>\n",
       "  <tbody>\n",
       "    <tr>\n",
       "      <th>0</th>\n",
       "      <td>1</td>\n",
       "      <td>0</td>\n",
       "      <td>3</td>\n",
       "      <td>Braund, Mr. Owen Harris</td>\n",
       "      <td>male</td>\n",
       "      <td>22.0</td>\n",
       "      <td>1</td>\n",
       "      <td>0</td>\n",
       "      <td>A/5 21171</td>\n",
       "      <td>7.2500</td>\n",
       "      <td>NaN</td>\n",
       "      <td>S</td>\n",
       "    </tr>\n",
       "    <tr>\n",
       "      <th>1</th>\n",
       "      <td>2</td>\n",
       "      <td>1</td>\n",
       "      <td>1</td>\n",
       "      <td>Cumings, Mrs. John Bradley (Florence Briggs Th...</td>\n",
       "      <td>female</td>\n",
       "      <td>38.0</td>\n",
       "      <td>1</td>\n",
       "      <td>0</td>\n",
       "      <td>PC 17599</td>\n",
       "      <td>71.2833</td>\n",
       "      <td>C85</td>\n",
       "      <td>C</td>\n",
       "    </tr>\n",
       "    <tr>\n",
       "      <th>2</th>\n",
       "      <td>3</td>\n",
       "      <td>1</td>\n",
       "      <td>3</td>\n",
       "      <td>Heikkinen, Miss. Laina</td>\n",
       "      <td>female</td>\n",
       "      <td>26.0</td>\n",
       "      <td>0</td>\n",
       "      <td>0</td>\n",
       "      <td>STON/O2. 3101282</td>\n",
       "      <td>7.9250</td>\n",
       "      <td>NaN</td>\n",
       "      <td>S</td>\n",
       "    </tr>\n",
       "    <tr>\n",
       "      <th>3</th>\n",
       "      <td>4</td>\n",
       "      <td>1</td>\n",
       "      <td>1</td>\n",
       "      <td>Futrelle, Mrs. Jacques Heath (Lily May Peel)</td>\n",
       "      <td>female</td>\n",
       "      <td>35.0</td>\n",
       "      <td>1</td>\n",
       "      <td>0</td>\n",
       "      <td>113803</td>\n",
       "      <td>53.1000</td>\n",
       "      <td>C123</td>\n",
       "      <td>S</td>\n",
       "    </tr>\n",
       "    <tr>\n",
       "      <th>4</th>\n",
       "      <td>5</td>\n",
       "      <td>0</td>\n",
       "      <td>3</td>\n",
       "      <td>Allen, Mr. William Henry</td>\n",
       "      <td>male</td>\n",
       "      <td>35.0</td>\n",
       "      <td>0</td>\n",
       "      <td>0</td>\n",
       "      <td>373450</td>\n",
       "      <td>8.0500</td>\n",
       "      <td>NaN</td>\n",
       "      <td>S</td>\n",
       "    </tr>\n",
       "  </tbody>\n",
       "</table>\n",
       "</div>"
      ],
      "text/plain": [
       "   PassengerId  Survived  Pclass  \\\n",
       "0            1         0       3   \n",
       "1            2         1       1   \n",
       "2            3         1       3   \n",
       "3            4         1       1   \n",
       "4            5         0       3   \n",
       "\n",
       "                                                Name     Sex   Age  SibSp  \\\n",
       "0                            Braund, Mr. Owen Harris    male  22.0      1   \n",
       "1  Cumings, Mrs. John Bradley (Florence Briggs Th...  female  38.0      1   \n",
       "2                             Heikkinen, Miss. Laina  female  26.0      0   \n",
       "3       Futrelle, Mrs. Jacques Heath (Lily May Peel)  female  35.0      1   \n",
       "4                           Allen, Mr. William Henry    male  35.0      0   \n",
       "\n",
       "   Parch            Ticket     Fare Cabin Embarked  \n",
       "0      0         A/5 21171   7.2500   NaN        S  \n",
       "1      0          PC 17599  71.2833   C85        C  \n",
       "2      0  STON/O2. 3101282   7.9250   NaN        S  \n",
       "3      0            113803  53.1000  C123        S  \n",
       "4      0            373450   8.0500   NaN        S  "
      ]
     },
     "execution_count": 8,
     "metadata": {},
     "output_type": "execute_result"
    }
   ],
   "source": [
    "titanic_train.head()"
   ]
  },
  {
   "cell_type": "code",
   "execution_count": 9,
   "id": "199e3fb9",
   "metadata": {
    "execution": {
     "iopub.execute_input": "2024-08-04T16:40:25.264382Z",
     "iopub.status.busy": "2024-08-04T16:40:25.263208Z",
     "iopub.status.idle": "2024-08-04T16:40:25.303237Z",
     "shell.execute_reply": "2024-08-04T16:40:25.301669Z"
    },
    "papermill": {
     "duration": 0.074033,
     "end_time": "2024-08-04T16:40:25.306603",
     "exception": false,
     "start_time": "2024-08-04T16:40:25.232570",
     "status": "completed"
    },
    "tags": []
   },
   "outputs": [
    {
     "name": "stdout",
     "output_type": "stream",
     "text": [
      "<class 'pandas.core.frame.DataFrame'>\n",
      "RangeIndex: 891 entries, 0 to 890\n",
      "Data columns (total 12 columns):\n",
      " #   Column       Non-Null Count  Dtype  \n",
      "---  ------       --------------  -----  \n",
      " 0   PassengerId  891 non-null    int64  \n",
      " 1   Survived     891 non-null    int64  \n",
      " 2   Pclass       891 non-null    int64  \n",
      " 3   Name         891 non-null    object \n",
      " 4   Sex          891 non-null    object \n",
      " 5   Age          714 non-null    float64\n",
      " 6   SibSp        891 non-null    int64  \n",
      " 7   Parch        891 non-null    int64  \n",
      " 8   Ticket       891 non-null    object \n",
      " 9   Fare         891 non-null    float64\n",
      " 10  Cabin        204 non-null    object \n",
      " 11  Embarked     889 non-null    object \n",
      "dtypes: float64(2), int64(5), object(5)\n",
      "memory usage: 83.7+ KB\n"
     ]
    }
   ],
   "source": [
    "titanic_train.info()"
   ]
  },
  {
   "cell_type": "code",
   "execution_count": 10,
   "id": "5c3487e0",
   "metadata": {
    "execution": {
     "iopub.execute_input": "2024-08-04T16:40:25.364046Z",
     "iopub.status.busy": "2024-08-04T16:40:25.363619Z",
     "iopub.status.idle": "2024-08-04T16:40:25.382944Z",
     "shell.execute_reply": "2024-08-04T16:40:25.381533Z"
    },
    "papermill": {
     "duration": 0.049247,
     "end_time": "2024-08-04T16:40:25.385664",
     "exception": false,
     "start_time": "2024-08-04T16:40:25.336417",
     "status": "completed"
    },
    "tags": []
   },
   "outputs": [
    {
     "data": {
      "text/html": [
       "<div>\n",
       "<style scoped>\n",
       "    .dataframe tbody tr th:only-of-type {\n",
       "        vertical-align: middle;\n",
       "    }\n",
       "\n",
       "    .dataframe tbody tr th {\n",
       "        vertical-align: top;\n",
       "    }\n",
       "\n",
       "    .dataframe thead th {\n",
       "        text-align: right;\n",
       "    }\n",
       "</style>\n",
       "<table border=\"1\" class=\"dataframe\">\n",
       "  <thead>\n",
       "    <tr style=\"text-align: right;\">\n",
       "      <th></th>\n",
       "      <th>PassengerId</th>\n",
       "      <th>Pclass</th>\n",
       "      <th>Name</th>\n",
       "      <th>Sex</th>\n",
       "      <th>Age</th>\n",
       "      <th>SibSp</th>\n",
       "      <th>Parch</th>\n",
       "      <th>Ticket</th>\n",
       "      <th>Fare</th>\n",
       "      <th>Cabin</th>\n",
       "      <th>Embarked</th>\n",
       "    </tr>\n",
       "  </thead>\n",
       "  <tbody>\n",
       "    <tr>\n",
       "      <th>0</th>\n",
       "      <td>892</td>\n",
       "      <td>3</td>\n",
       "      <td>Kelly, Mr. James</td>\n",
       "      <td>male</td>\n",
       "      <td>34.5</td>\n",
       "      <td>0</td>\n",
       "      <td>0</td>\n",
       "      <td>330911</td>\n",
       "      <td>7.8292</td>\n",
       "      <td>NaN</td>\n",
       "      <td>Q</td>\n",
       "    </tr>\n",
       "    <tr>\n",
       "      <th>1</th>\n",
       "      <td>893</td>\n",
       "      <td>3</td>\n",
       "      <td>Wilkes, Mrs. James (Ellen Needs)</td>\n",
       "      <td>female</td>\n",
       "      <td>47.0</td>\n",
       "      <td>1</td>\n",
       "      <td>0</td>\n",
       "      <td>363272</td>\n",
       "      <td>7.0000</td>\n",
       "      <td>NaN</td>\n",
       "      <td>S</td>\n",
       "    </tr>\n",
       "    <tr>\n",
       "      <th>2</th>\n",
       "      <td>894</td>\n",
       "      <td>2</td>\n",
       "      <td>Myles, Mr. Thomas Francis</td>\n",
       "      <td>male</td>\n",
       "      <td>62.0</td>\n",
       "      <td>0</td>\n",
       "      <td>0</td>\n",
       "      <td>240276</td>\n",
       "      <td>9.6875</td>\n",
       "      <td>NaN</td>\n",
       "      <td>Q</td>\n",
       "    </tr>\n",
       "    <tr>\n",
       "      <th>3</th>\n",
       "      <td>895</td>\n",
       "      <td>3</td>\n",
       "      <td>Wirz, Mr. Albert</td>\n",
       "      <td>male</td>\n",
       "      <td>27.0</td>\n",
       "      <td>0</td>\n",
       "      <td>0</td>\n",
       "      <td>315154</td>\n",
       "      <td>8.6625</td>\n",
       "      <td>NaN</td>\n",
       "      <td>S</td>\n",
       "    </tr>\n",
       "    <tr>\n",
       "      <th>4</th>\n",
       "      <td>896</td>\n",
       "      <td>3</td>\n",
       "      <td>Hirvonen, Mrs. Alexander (Helga E Lindqvist)</td>\n",
       "      <td>female</td>\n",
       "      <td>22.0</td>\n",
       "      <td>1</td>\n",
       "      <td>1</td>\n",
       "      <td>3101298</td>\n",
       "      <td>12.2875</td>\n",
       "      <td>NaN</td>\n",
       "      <td>S</td>\n",
       "    </tr>\n",
       "  </tbody>\n",
       "</table>\n",
       "</div>"
      ],
      "text/plain": [
       "   PassengerId  Pclass                                          Name     Sex  \\\n",
       "0          892       3                              Kelly, Mr. James    male   \n",
       "1          893       3              Wilkes, Mrs. James (Ellen Needs)  female   \n",
       "2          894       2                     Myles, Mr. Thomas Francis    male   \n",
       "3          895       3                              Wirz, Mr. Albert    male   \n",
       "4          896       3  Hirvonen, Mrs. Alexander (Helga E Lindqvist)  female   \n",
       "\n",
       "    Age  SibSp  Parch   Ticket     Fare Cabin Embarked  \n",
       "0  34.5      0      0   330911   7.8292   NaN        Q  \n",
       "1  47.0      1      0   363272   7.0000   NaN        S  \n",
       "2  62.0      0      0   240276   9.6875   NaN        Q  \n",
       "3  27.0      0      0   315154   8.6625   NaN        S  \n",
       "4  22.0      1      1  3101298  12.2875   NaN        S  "
      ]
     },
     "execution_count": 10,
     "metadata": {},
     "output_type": "execute_result"
    }
   ],
   "source": [
    "titanic_test.head()"
   ]
  },
  {
   "cell_type": "code",
   "execution_count": 11,
   "id": "46e2727c",
   "metadata": {
    "execution": {
     "iopub.execute_input": "2024-08-04T16:40:25.447731Z",
     "iopub.status.busy": "2024-08-04T16:40:25.447023Z",
     "iopub.status.idle": "2024-08-04T16:40:25.466222Z",
     "shell.execute_reply": "2024-08-04T16:40:25.461245Z"
    },
    "papermill": {
     "duration": 0.055927,
     "end_time": "2024-08-04T16:40:25.469890",
     "exception": false,
     "start_time": "2024-08-04T16:40:25.413963",
     "status": "completed"
    },
    "tags": []
   },
   "outputs": [
    {
     "name": "stdout",
     "output_type": "stream",
     "text": [
      "Embarked\n",
      "S    127\n",
      "C     85\n",
      "Q      2\n",
      "Name: count, dtype: int64\n"
     ]
    }
   ],
   "source": [
    "print(titanic_train[titanic_train['Pclass'] == 1]['Embarked'].value_counts())"
   ]
  },
  {
   "cell_type": "code",
   "execution_count": 12,
   "id": "7354eed7",
   "metadata": {
    "execution": {
     "iopub.execute_input": "2024-08-04T16:40:25.544785Z",
     "iopub.status.busy": "2024-08-04T16:40:25.543490Z",
     "iopub.status.idle": "2024-08-04T16:40:25.551134Z",
     "shell.execute_reply": "2024-08-04T16:40:25.549798Z"
    },
    "papermill": {
     "duration": 0.043751,
     "end_time": "2024-08-04T16:40:25.553456",
     "exception": false,
     "start_time": "2024-08-04T16:40:25.509705",
     "status": "completed"
    },
    "tags": []
   },
   "outputs": [],
   "source": [
    "titanic_train['Embarked'] = titanic_train['Embarked'].fillna('S')"
   ]
  },
  {
   "cell_type": "code",
   "execution_count": 13,
   "id": "81b67ae6",
   "metadata": {
    "execution": {
     "iopub.execute_input": "2024-08-04T16:40:25.603418Z",
     "iopub.status.busy": "2024-08-04T16:40:25.602992Z",
     "iopub.status.idle": "2024-08-04T16:40:25.621041Z",
     "shell.execute_reply": "2024-08-04T16:40:25.619536Z"
    },
    "papermill": {
     "duration": 0.04719,
     "end_time": "2024-08-04T16:40:25.624890",
     "exception": false,
     "start_time": "2024-08-04T16:40:25.577700",
     "status": "completed"
    },
    "tags": []
   },
   "outputs": [
    {
     "data": {
      "text/plain": [
       "Sex     Pclass\n",
       "male    3         94\n",
       "female  3         42\n",
       "male    1         21\n",
       "female  1          9\n",
       "male    2          9\n",
       "female  2          2\n",
       "Name: count, dtype: int64"
      ]
     },
     "execution_count": 13,
     "metadata": {},
     "output_type": "execute_result"
    }
   ],
   "source": [
    "titanic_train[titanic_train['Age'].isna()].value_counts(['Sex', 'Pclass'])"
   ]
  },
  {
   "cell_type": "code",
   "execution_count": 14,
   "id": "62a5e03b",
   "metadata": {
    "execution": {
     "iopub.execute_input": "2024-08-04T16:40:25.681657Z",
     "iopub.status.busy": "2024-08-04T16:40:25.681151Z",
     "iopub.status.idle": "2024-08-04T16:40:25.688025Z",
     "shell.execute_reply": "2024-08-04T16:40:25.686094Z"
    },
    "papermill": {
     "duration": 0.036656,
     "end_time": "2024-08-04T16:40:25.691562",
     "exception": false,
     "start_time": "2024-08-04T16:40:25.654906",
     "status": "completed"
    },
    "tags": []
   },
   "outputs": [],
   "source": [
    "label = titanic_train['Survived']"
   ]
  },
  {
   "cell_type": "markdown",
   "id": "c3c1ad07",
   "metadata": {
    "papermill": {
     "duration": 0.023663,
     "end_time": "2024-08-04T16:40:25.739546",
     "exception": false,
     "start_time": "2024-08-04T16:40:25.715883",
     "status": "completed"
    },
    "tags": []
   },
   "source": [
    "데이터 분석을 위한 데이터 프레임 병합"
   ]
  },
  {
   "cell_type": "code",
   "execution_count": 15,
   "id": "d87b7e88",
   "metadata": {
    "execution": {
     "iopub.execute_input": "2024-08-04T16:40:25.791054Z",
     "iopub.status.busy": "2024-08-04T16:40:25.789718Z",
     "iopub.status.idle": "2024-08-04T16:40:25.799256Z",
     "shell.execute_reply": "2024-08-04T16:40:25.798334Z"
    },
    "papermill": {
     "duration": 0.037744,
     "end_time": "2024-08-04T16:40:25.801831",
     "exception": false,
     "start_time": "2024-08-04T16:40:25.764087",
     "status": "completed"
    },
    "tags": []
   },
   "outputs": [],
   "source": [
    "titanic_data = pd.concat([titanic_train.iloc[:,1:], titanic_test.iloc[:,1:]], axis=0, sort=False)"
   ]
  },
  {
   "cell_type": "code",
   "execution_count": 16,
   "id": "aa64e795",
   "metadata": {
    "execution": {
     "iopub.execute_input": "2024-08-04T16:40:25.852377Z",
     "iopub.status.busy": "2024-08-04T16:40:25.851986Z",
     "iopub.status.idle": "2024-08-04T16:40:25.866513Z",
     "shell.execute_reply": "2024-08-04T16:40:25.865157Z"
    },
    "papermill": {
     "duration": 0.043536,
     "end_time": "2024-08-04T16:40:25.869666",
     "exception": false,
     "start_time": "2024-08-04T16:40:25.826130",
     "status": "completed"
    },
    "tags": []
   },
   "outputs": [
    {
     "name": "stdout",
     "output_type": "stream",
     "text": [
      "<class 'pandas.core.frame.DataFrame'>\n",
      "Index: 1309 entries, 0 to 417\n",
      "Data columns (total 11 columns):\n",
      " #   Column    Non-Null Count  Dtype  \n",
      "---  ------    --------------  -----  \n",
      " 0   Survived  891 non-null    float64\n",
      " 1   Pclass    1309 non-null   int64  \n",
      " 2   Name      1309 non-null   object \n",
      " 3   Sex       1309 non-null   object \n",
      " 4   Age       1046 non-null   float64\n",
      " 5   SibSp     1309 non-null   int64  \n",
      " 6   Parch     1309 non-null   int64  \n",
      " 7   Ticket    1309 non-null   object \n",
      " 8   Fare      1308 non-null   float64\n",
      " 9   Cabin     295 non-null    object \n",
      " 10  Embarked  1309 non-null   object \n",
      "dtypes: float64(3), int64(3), object(5)\n",
      "memory usage: 122.7+ KB\n"
     ]
    }
   ],
   "source": [
    "titanic_data.info()"
   ]
  },
  {
   "cell_type": "code",
   "execution_count": 17,
   "id": "11ab3abd",
   "metadata": {
    "execution": {
     "iopub.execute_input": "2024-08-04T16:40:25.921705Z",
     "iopub.status.busy": "2024-08-04T16:40:25.921291Z",
     "iopub.status.idle": "2024-08-04T16:40:25.954119Z",
     "shell.execute_reply": "2024-08-04T16:40:25.952835Z"
    },
    "papermill": {
     "duration": 0.062486,
     "end_time": "2024-08-04T16:40:25.956807",
     "exception": false,
     "start_time": "2024-08-04T16:40:25.894321",
     "status": "completed"
    },
    "tags": []
   },
   "outputs": [
    {
     "data": {
      "text/html": [
       "<div>\n",
       "<style scoped>\n",
       "    .dataframe tbody tr th:only-of-type {\n",
       "        vertical-align: middle;\n",
       "    }\n",
       "\n",
       "    .dataframe tbody tr th {\n",
       "        vertical-align: top;\n",
       "    }\n",
       "\n",
       "    .dataframe thead th {\n",
       "        text-align: right;\n",
       "    }\n",
       "</style>\n",
       "<table border=\"1\" class=\"dataframe\">\n",
       "  <thead>\n",
       "    <tr style=\"text-align: right;\">\n",
       "      <th></th>\n",
       "      <th>Survived</th>\n",
       "      <th>Pclass</th>\n",
       "      <th>Age</th>\n",
       "      <th>SibSp</th>\n",
       "      <th>Parch</th>\n",
       "      <th>Fare</th>\n",
       "    </tr>\n",
       "  </thead>\n",
       "  <tbody>\n",
       "    <tr>\n",
       "      <th>count</th>\n",
       "      <td>891.000000</td>\n",
       "      <td>1309.000000</td>\n",
       "      <td>1046.000000</td>\n",
       "      <td>1309.000000</td>\n",
       "      <td>1309.000000</td>\n",
       "      <td>1308.000000</td>\n",
       "    </tr>\n",
       "    <tr>\n",
       "      <th>mean</th>\n",
       "      <td>0.383838</td>\n",
       "      <td>2.294882</td>\n",
       "      <td>29.881138</td>\n",
       "      <td>0.498854</td>\n",
       "      <td>0.385027</td>\n",
       "      <td>33.295479</td>\n",
       "    </tr>\n",
       "    <tr>\n",
       "      <th>std</th>\n",
       "      <td>0.486592</td>\n",
       "      <td>0.837836</td>\n",
       "      <td>14.413493</td>\n",
       "      <td>1.041658</td>\n",
       "      <td>0.865560</td>\n",
       "      <td>51.758668</td>\n",
       "    </tr>\n",
       "    <tr>\n",
       "      <th>min</th>\n",
       "      <td>0.000000</td>\n",
       "      <td>1.000000</td>\n",
       "      <td>0.170000</td>\n",
       "      <td>0.000000</td>\n",
       "      <td>0.000000</td>\n",
       "      <td>0.000000</td>\n",
       "    </tr>\n",
       "    <tr>\n",
       "      <th>25%</th>\n",
       "      <td>0.000000</td>\n",
       "      <td>2.000000</td>\n",
       "      <td>21.000000</td>\n",
       "      <td>0.000000</td>\n",
       "      <td>0.000000</td>\n",
       "      <td>7.895800</td>\n",
       "    </tr>\n",
       "    <tr>\n",
       "      <th>50%</th>\n",
       "      <td>0.000000</td>\n",
       "      <td>3.000000</td>\n",
       "      <td>28.000000</td>\n",
       "      <td>0.000000</td>\n",
       "      <td>0.000000</td>\n",
       "      <td>14.454200</td>\n",
       "    </tr>\n",
       "    <tr>\n",
       "      <th>75%</th>\n",
       "      <td>1.000000</td>\n",
       "      <td>3.000000</td>\n",
       "      <td>39.000000</td>\n",
       "      <td>1.000000</td>\n",
       "      <td>0.000000</td>\n",
       "      <td>31.275000</td>\n",
       "    </tr>\n",
       "    <tr>\n",
       "      <th>max</th>\n",
       "      <td>1.000000</td>\n",
       "      <td>3.000000</td>\n",
       "      <td>80.000000</td>\n",
       "      <td>8.000000</td>\n",
       "      <td>9.000000</td>\n",
       "      <td>512.329200</td>\n",
       "    </tr>\n",
       "  </tbody>\n",
       "</table>\n",
       "</div>"
      ],
      "text/plain": [
       "         Survived       Pclass          Age        SibSp        Parch  \\\n",
       "count  891.000000  1309.000000  1046.000000  1309.000000  1309.000000   \n",
       "mean     0.383838     2.294882    29.881138     0.498854     0.385027   \n",
       "std      0.486592     0.837836    14.413493     1.041658     0.865560   \n",
       "min      0.000000     1.000000     0.170000     0.000000     0.000000   \n",
       "25%      0.000000     2.000000    21.000000     0.000000     0.000000   \n",
       "50%      0.000000     3.000000    28.000000     0.000000     0.000000   \n",
       "75%      1.000000     3.000000    39.000000     1.000000     0.000000   \n",
       "max      1.000000     3.000000    80.000000     8.000000     9.000000   \n",
       "\n",
       "              Fare  \n",
       "count  1308.000000  \n",
       "mean     33.295479  \n",
       "std      51.758668  \n",
       "min       0.000000  \n",
       "25%       7.895800  \n",
       "50%      14.454200  \n",
       "75%      31.275000  \n",
       "max     512.329200  "
      ]
     },
     "execution_count": 17,
     "metadata": {},
     "output_type": "execute_result"
    }
   ],
   "source": [
    "titanic_data.describe()"
   ]
  },
  {
   "cell_type": "markdown",
   "id": "30f55908",
   "metadata": {
    "papermill": {
     "duration": 0.02439,
     "end_time": "2024-08-04T16:40:26.072006",
     "exception": false,
     "start_time": "2024-08-04T16:40:26.047616",
     "status": "completed"
    },
    "tags": []
   },
   "source": [
    "본격적 결측치 채우기 위한 시각화, 분석"
   ]
  },
  {
   "cell_type": "code",
   "execution_count": 18,
   "id": "9e83fc5b",
   "metadata": {
    "execution": {
     "iopub.execute_input": "2024-08-04T16:40:26.126151Z",
     "iopub.status.busy": "2024-08-04T16:40:26.125722Z",
     "iopub.status.idle": "2024-08-04T16:40:26.631349Z",
     "shell.execute_reply": "2024-08-04T16:40:26.630164Z"
    },
    "papermill": {
     "duration": 0.535927,
     "end_time": "2024-08-04T16:40:26.633928",
     "exception": false,
     "start_time": "2024-08-04T16:40:26.098001",
     "status": "completed"
    },
    "tags": []
   },
   "outputs": [
    {
     "data": {
      "image/png": "[encoded data removed]",
      "text/plain": [
       "<Figure size 1000x600 with 2 Axes>"
      ]
     },
     "metadata": {},
     "output_type": "display_data"
    }
   ],
   "source": [
    "sns.set_style('whitegrid')\n",
    "plt.figure(figsize=(10, 6))\n",
    "sns.heatmap(titanic_data.isna(), yticklabels=False, cmap='coolwarm')\n",
    "plt.show()"
   ]
  },
  {
   "cell_type": "code",
   "execution_count": 19,
   "id": "1d1e9f37",
   "metadata": {
    "execution": {
     "iopub.execute_input": "2024-08-04T16:40:26.685392Z",
     "iopub.status.busy": "2024-08-04T16:40:26.685017Z",
     "iopub.status.idle": "2024-08-04T16:40:26.697756Z",
     "shell.execute_reply": "2024-08-04T16:40:26.696536Z"
    },
    "papermill": {
     "duration": 0.041726,
     "end_time": "2024-08-04T16:40:26.700487",
     "exception": false,
     "start_time": "2024-08-04T16:40:26.658761",
     "status": "completed"
    },
    "tags": []
   },
   "outputs": [
    {
     "data": {
      "text/plain": [
       "Pclass\n",
       "3         693\n",
       "2         254\n",
       "1          67\n",
       "Name: count, dtype: int64"
      ]
     },
     "execution_count": 19,
     "metadata": {},
     "output_type": "execute_result"
    }
   ],
   "source": [
    "titanic_data[titanic_data['Cabin'].isna()].value_counts(['Pclass'])"
   ]
  },
  {
   "cell_type": "code",
   "execution_count": 20,
   "id": "54dc0b20",
   "metadata": {
    "execution": {
     "iopub.execute_input": "2024-08-04T16:40:26.752300Z",
     "iopub.status.busy": "2024-08-04T16:40:26.751929Z",
     "iopub.status.idle": "2024-08-04T16:40:26.758446Z",
     "shell.execute_reply": "2024-08-04T16:40:26.757101Z"
    },
    "papermill": {
     "duration": 0.035454,
     "end_time": "2024-08-04T16:40:26.761097",
     "exception": false,
     "start_time": "2024-08-04T16:40:26.725643",
     "status": "completed"
    },
    "tags": []
   },
   "outputs": [],
   "source": [
    "# Cabin 컬럼에 대한 결측치 처리(Pclass별로 가장 많은 Cabin으로 대체)\n",
    "def cabin_modding(df):\n",
    "    df['Cabin'] = df['Cabin'].str[0]\n",
    "    df['Cabin'] = df.groupby('Pclass')['Cabin'].transform(lambda x: x.fillna(x.mode()[0]))\n",
    "    return df"
   ]
  },
  {
   "cell_type": "code",
   "execution_count": 21,
   "id": "53745122",
   "metadata": {
    "execution": {
     "iopub.execute_input": "2024-08-04T16:40:26.814318Z",
     "iopub.status.busy": "2024-08-04T16:40:26.813939Z",
     "iopub.status.idle": "2024-08-04T16:40:26.828719Z",
     "shell.execute_reply": "2024-08-04T16:40:26.827616Z"
    },
    "papermill": {
     "duration": 0.045005,
     "end_time": "2024-08-04T16:40:26.831493",
     "exception": false,
     "start_time": "2024-08-04T16:40:26.786488",
     "status": "completed"
    },
    "tags": []
   },
   "outputs": [],
   "source": [
    "# 이름 컬럼에 있는 이명 호칭 추출\n",
    "titanic_data['Title'] = titanic_data['Name'].str.split(',', expand = True)[1].str.split('.', expand = True)[0].str.strip(' ')"
   ]
  },
  {
   "cell_type": "code",
   "execution_count": 22,
   "id": "69391314",
   "metadata": {
    "execution": {
     "iopub.execute_input": "2024-08-04T16:40:26.884747Z",
     "iopub.status.busy": "2024-08-04T16:40:26.884357Z",
     "iopub.status.idle": "2024-08-04T16:40:26.894901Z",
     "shell.execute_reply": "2024-08-04T16:40:26.893413Z"
    },
    "papermill": {
     "duration": 0.039848,
     "end_time": "2024-08-04T16:40:26.897391",
     "exception": false,
     "start_time": "2024-08-04T16:40:26.857543",
     "status": "completed"
    },
    "tags": []
   },
   "outputs": [
    {
     "data": {
      "text/plain": [
       "Title\n",
       "Mr              757\n",
       "Miss            260\n",
       "Mrs             197\n",
       "Master           61\n",
       "Rev               8\n",
       "Dr                8\n",
       "Col               4\n",
       "Mlle              2\n",
       "Major             2\n",
       "Ms                2\n",
       "Lady              1\n",
       "Sir               1\n",
       "Mme               1\n",
       "Don               1\n",
       "Capt              1\n",
       "the Countess      1\n",
       "Jonkheer          1\n",
       "Dona              1\n",
       "Name: count, dtype: int64"
      ]
     },
     "execution_count": 22,
     "metadata": {},
     "output_type": "execute_result"
    }
   ],
   "source": [
    "titanic_data['Title'].value_counts()"
   ]
  },
  {
   "cell_type": "code",
   "execution_count": 23,
   "id": "c550a6d0",
   "metadata": {
    "execution": {
     "iopub.execute_input": "2024-08-04T16:40:26.950521Z",
     "iopub.status.busy": "2024-08-04T16:40:26.950107Z",
     "iopub.status.idle": "2024-08-04T16:40:27.442229Z",
     "shell.execute_reply": "2024-08-04T16:40:27.441052Z"
    },
    "papermill": {
     "duration": 0.522525,
     "end_time": "2024-08-04T16:40:27.445436",
     "exception": false,
     "start_time": "2024-08-04T16:40:26.922911",
     "status": "completed"
    },
    "tags": []
   },
   "outputs": [
    {
     "data": {
      "image/png": "[encoded data removed]",
      "text/plain": [
       "<Figure size 640x480 with 1 Axes>"
      ]
     },
     "metadata": {},
     "output_type": "display_data"
    }
   ],
   "source": [
    "sns.countplot(x='Title', data=titanic_data)\n",
    "plt.xticks(rotation=45)\n",
    "plt.show()"
   ]
  },
  {
   "cell_type": "code",
   "execution_count": 24,
   "id": "a28f57dc",
   "metadata": {
    "execution": {
     "iopub.execute_input": "2024-08-04T16:40:27.498950Z",
     "iopub.status.busy": "2024-08-04T16:40:27.498516Z",
     "iopub.status.idle": "2024-08-04T16:40:27.505211Z",
     "shell.execute_reply": "2024-08-04T16:40:27.504095Z"
    },
    "papermill": {
     "duration": 0.036459,
     "end_time": "2024-08-04T16:40:27.507840",
     "exception": false,
     "start_time": "2024-08-04T16:40:27.471381",
     "status": "completed"
    },
    "tags": []
   },
   "outputs": [],
   "source": [
    "def concat_train_test_data(df_train=None, df_test=None):\n",
    "    df = pd.concat([df_train, df_test], axis=0, sort=False).reset_index(drop=True)\n",
    "    \n",
    "    # 정수로 고정해야 할 컬럼을 정수로 변환\n",
    "    int_cols = ['PassengerId']\n",
    "    for column in int_cols:\n",
    "        df[column] = df[column].astype(int)\n",
    "    return df"
   ]
  },
  {
   "cell_type": "code",
   "execution_count": 25,
   "id": "49408002",
   "metadata": {
    "execution": {
     "iopub.execute_input": "2024-08-04T16:40:27.563293Z",
     "iopub.status.busy": "2024-08-04T16:40:27.562908Z",
     "iopub.status.idle": "2024-08-04T16:40:27.572703Z",
     "shell.execute_reply": "2024-08-04T16:40:27.571647Z"
    },
    "papermill": {
     "duration": 0.040935,
     "end_time": "2024-08-04T16:40:27.575324",
     "exception": false,
     "start_time": "2024-08-04T16:40:27.534389",
     "status": "completed"
    },
    "tags": []
   },
   "outputs": [],
   "source": [
    "# 'Name' 컬럼에서 'Title' 컬럼 생성하기\n",
    "# 의미있는 호칭(Mr, Mrs, Miss, Master)을 추출하는 과정입니다.\n",
    "\n",
    "# 'Title' 생성하는 함수\n",
    "def get_Title(name=None):\n",
    "    general_titles = ('Mr', 'Mrs', 'Miss', 'Master')\n",
    "\n",
    "    # top4 호칭으로 바꿔줄 소수 여성 호칭\n",
    "    female_titles_to_Mrs = ('Mme', 'Ms', 'the Countess', 'Dona', 'Lady')\n",
    "    female_titles_to_Miss = ('Mlle')\n",
    "\n",
    "    # top4 호칭으로 바꿔줄 소수 남성 호칭\n",
    "    male_titles_to_Mr = ('Major', 'Col', 'Capt', 'Don', 'Sir', 'Jonkheer', 'Rev')\n",
    "\n",
    "    # 예 : \"Braund, Mr. Owen Harris\"에서 'Mr' 추출\n",
    "    # '.'(마침표) 기준으로 이름을 자르고, ','(콤마) 제거\n",
    "    title = name.split('.')[0].split(', ')[-1]\n",
    "\n",
    "    # 호칭에 따라 변환해서 리턴\n",
    "    if title in general_titles:\n",
    "        return title\n",
    "    elif title in female_titles_to_Mrs:\n",
    "        return 'Mrs'\n",
    "    elif title in female_titles_to_Miss:\n",
    "        return 'Miss'\n",
    "    elif title in male_titles_to_Mr:\n",
    "        return 'Mr'\n",
    "    else:\n",
    "        return title\n"
   ]
  },
  {
   "cell_type": "code",
   "execution_count": 26,
   "id": "6f70d515",
   "metadata": {
    "execution": {
     "iopub.execute_input": "2024-08-04T16:40:27.629911Z",
     "iopub.status.busy": "2024-08-04T16:40:27.629504Z",
     "iopub.status.idle": "2024-08-04T16:40:27.636765Z",
     "shell.execute_reply": "2024-08-04T16:40:27.635635Z"
    },
    "papermill": {
     "duration": 0.038046,
     "end_time": "2024-08-04T16:40:27.639449",
     "exception": false,
     "start_time": "2024-08-04T16:40:27.601403",
     "status": "completed"
    },
    "tags": []
   },
   "outputs": [],
   "source": [
    "\n",
    "# 남녀 양쪽 전부 존재하는 호칭 처리 함수\n",
    "def title_both_side(df=None):\n",
    "    # 조건 설정\n",
    "    title_on_both_side = ['Dr']\n",
    "    cond_mr = (df['Sex'] == 'male') & (df['Title'].isin(title_on_both_side))\n",
    "    cond_mrs = (df['Sex'] == 'female') & (df['Title'].isin(title_on_both_side))\n",
    "\n",
    "    # 치환\n",
    "    df.loc[cond_mr, 'Title'] = 'Mr'\n",
    "    df.loc[cond_mrs, 'Title'] = 'Mrs'\n",
    "\n",
    "    return df\n"
   ]
  },
  {
   "cell_type": "code",
   "execution_count": 27,
   "id": "fbfd77f8",
   "metadata": {
    "execution": {
     "iopub.execute_input": "2024-08-04T16:40:27.693912Z",
     "iopub.status.busy": "2024-08-04T16:40:27.693509Z",
     "iopub.status.idle": "2024-08-04T16:40:27.699841Z",
     "shell.execute_reply": "2024-08-04T16:40:27.698616Z"
    },
    "papermill": {
     "duration": 0.036257,
     "end_time": "2024-08-04T16:40:27.702367",
     "exception": false,
     "start_time": "2024-08-04T16:40:27.666110",
     "status": "completed"
    },
    "tags": []
   },
   "outputs": [],
   "source": [
    "# 'Title 생성\n",
    "def make_Title(df=None):\n",
    "    df['Title'] = df['Name'].map(get_Title)\n",
    "\n",
    "    # 남녀 양쪽 전부 존재하는 호칭에 대한 처리\n",
    "    df = title_both_side(df)\n",
    "\n",
    "    return df"
   ]
  },
  {
   "cell_type": "code",
   "execution_count": 28,
   "id": "b69d2a40",
   "metadata": {
    "execution": {
     "iopub.execute_input": "2024-08-04T16:40:27.757033Z",
     "iopub.status.busy": "2024-08-04T16:40:27.756638Z",
     "iopub.status.idle": "2024-08-04T16:40:27.763430Z",
     "shell.execute_reply": "2024-08-04T16:40:27.762212Z"
    },
    "papermill": {
     "duration": 0.036963,
     "end_time": "2024-08-04T16:40:27.765869",
     "exception": false,
     "start_time": "2024-08-04T16:40:27.728906",
     "status": "completed"
    },
    "tags": []
   },
   "outputs": [],
   "source": [
    "# 잘못된 데이터를 수정하는 함수 \n",
    "def correct_wrong_passenger_info(df=None):\n",
    "    df.loc[df['PassengerId'] == 631, 'Age'] = 48\n",
    "\n",
    "    # Passengers with wrong number of siblings and parch\n",
    "    df.loc[df['PassengerId'] == 69, ['SibSp', 'Parch']] = [0,0]\n",
    "    df.loc[df['PassengerId'] == 1106, ['SibSp', 'Parch']] = [0,0]\n",
    "    \n",
    "    return df"
   ]
  },
  {
   "cell_type": "code",
   "execution_count": 29,
   "id": "f2b7b971",
   "metadata": {
    "execution": {
     "iopub.execute_input": "2024-08-04T16:40:27.820386Z",
     "iopub.status.busy": "2024-08-04T16:40:27.820013Z",
     "iopub.status.idle": "2024-08-04T16:40:27.836556Z",
     "shell.execute_reply": "2024-08-04T16:40:27.835201Z"
    },
    "papermill": {
     "duration": 0.047478,
     "end_time": "2024-08-04T16:40:27.839465",
     "exception": false,
     "start_time": "2024-08-04T16:40:27.791987",
     "status": "completed"
    },
    "tags": []
   },
   "outputs": [
    {
     "data": {
      "text/plain": [
       "Title\n",
       "Mr        782\n",
       "Miss      262\n",
       "Mrs       204\n",
       "Master     61\n",
       "Name: count, dtype: int64"
      ]
     },
     "execution_count": 29,
     "metadata": {},
     "output_type": "execute_result"
    }
   ],
   "source": [
    "titanic_data = make_Title(titanic_data)\n",
    "titanic_data['Title'].value_counts()"
   ]
  },
  {
   "cell_type": "code",
   "execution_count": 30,
   "id": "58f25159",
   "metadata": {
    "execution": {
     "iopub.execute_input": "2024-08-04T16:40:27.896624Z",
     "iopub.status.busy": "2024-08-04T16:40:27.896236Z",
     "iopub.status.idle": "2024-08-04T16:40:27.902078Z",
     "shell.execute_reply": "2024-08-04T16:40:27.900897Z"
    },
    "papermill": {
     "duration": 0.03693,
     "end_time": "2024-08-04T16:40:27.904579",
     "exception": false,
     "start_time": "2024-08-04T16:40:27.867649",
     "status": "completed"
    },
    "tags": []
   },
   "outputs": [],
   "source": [
    "# Family 컬럼 생성\n",
    "def mk_family(df=None):\n",
    "    df['Family'] = df['SibSp'].astype(int) + df['Parch'].astype(int)\n",
    "    return df\n"
   ]
  },
  {
   "cell_type": "code",
   "execution_count": 31,
   "id": "cfafba4e",
   "metadata": {
    "execution": {
     "iopub.execute_input": "2024-08-04T16:40:27.958600Z",
     "iopub.status.busy": "2024-08-04T16:40:27.958217Z",
     "iopub.status.idle": "2024-08-04T16:40:27.964029Z",
     "shell.execute_reply": "2024-08-04T16:40:27.962702Z"
    },
    "papermill": {
     "duration": 0.035736,
     "end_time": "2024-08-04T16:40:27.966404",
     "exception": false,
     "start_time": "2024-08-04T16:40:27.930668",
     "status": "completed"
    },
    "tags": []
   },
   "outputs": [],
   "source": [
    "def make_Surname(df=None):\n",
    "    df['Surname'] = df['Name'].map(lambda name: name.split(',')[0].strip())\n",
    "    return df"
   ]
  },
  {
   "cell_type": "code",
   "execution_count": 32,
   "id": "af8b0c61",
   "metadata": {
    "execution": {
     "iopub.execute_input": "2024-08-04T16:40:28.021151Z",
     "iopub.status.busy": "2024-08-04T16:40:28.020735Z",
     "iopub.status.idle": "2024-08-04T16:40:28.027467Z",
     "shell.execute_reply": "2024-08-04T16:40:28.026104Z"
    },
    "papermill": {
     "duration": 0.037591,
     "end_time": "2024-08-04T16:40:28.030089",
     "exception": false,
     "start_time": "2024-08-04T16:40:27.992498",
     "status": "completed"
    },
    "tags": []
   },
   "outputs": [],
   "source": [
    "def data_process_pipeline(df_train,df_test):\n",
    "    df = concat_train_test_data(df_train, df_test)\n",
    "    df['Embarked'] = df['Embarked'].fillna('S')\n",
    "    df = cabin_modding(df)\n",
    "    df = make_Surname(df)\n",
    "    df = make_Title(df)\n",
    "    df = mk_family(df)\n",
    "    df = correct_wrong_passenger_info(df)\n",
    "    return df"
   ]
  },
  {
   "cell_type": "code",
   "execution_count": 33,
   "id": "23500bcc",
   "metadata": {
    "execution": {
     "iopub.execute_input": "2024-08-04T16:40:28.086674Z",
     "iopub.status.busy": "2024-08-04T16:40:28.086277Z",
     "iopub.status.idle": "2024-08-04T16:40:28.115275Z",
     "shell.execute_reply": "2024-08-04T16:40:28.113920Z"
    },
    "papermill": {
     "duration": 0.060369,
     "end_time": "2024-08-04T16:40:28.118135",
     "exception": false,
     "start_time": "2024-08-04T16:40:28.057766",
     "status": "completed"
    },
    "tags": []
   },
   "outputs": [],
   "source": [
    "titanic_data = data_process_pipeline(titanic_train, titanic_test)"
   ]
  },
  {
   "cell_type": "code",
   "execution_count": 34,
   "id": "596c80aa",
   "metadata": {
    "execution": {
     "iopub.execute_input": "2024-08-04T16:40:28.173176Z",
     "iopub.status.busy": "2024-08-04T16:40:28.172767Z",
     "iopub.status.idle": "2024-08-04T16:40:28.183526Z",
     "shell.execute_reply": "2024-08-04T16:40:28.182421Z"
    },
    "papermill": {
     "duration": 0.040602,
     "end_time": "2024-08-04T16:40:28.185942",
     "exception": false,
     "start_time": "2024-08-04T16:40:28.145340",
     "status": "completed"
    },
    "tags": []
   },
   "outputs": [
    {
     "data": {
      "text/plain": [
       "PassengerId      0\n",
       "Survived       418\n",
       "Pclass           0\n",
       "Name             0\n",
       "Sex              0\n",
       "Age            263\n",
       "SibSp            0\n",
       "Parch            0\n",
       "Ticket           0\n",
       "Fare             1\n",
       "Cabin            0\n",
       "Embarked         0\n",
       "Surname          0\n",
       "Title            0\n",
       "Family           0\n",
       "dtype: int64"
      ]
     },
     "execution_count": 34,
     "metadata": {},
     "output_type": "execute_result"
    }
   ],
   "source": [
    "titanic_data.isna().sum()"
   ]
  },
  {
   "cell_type": "markdown",
   "id": "4f56722d",
   "metadata": {
    "papermill": {
     "duration": 0.026176,
     "end_time": "2024-08-04T16:40:28.238673",
     "exception": false,
     "start_time": "2024-08-04T16:40:28.212497",
     "status": "completed"
    },
    "tags": []
   },
   "source": [
    "Age에서 결측치 제거"
   ]
  },
  {
   "cell_type": "code",
   "execution_count": 35,
   "id": "e0245aed",
   "metadata": {
    "execution": {
     "iopub.execute_input": "2024-08-04T16:40:28.293732Z",
     "iopub.status.busy": "2024-08-04T16:40:28.293356Z",
     "iopub.status.idle": "2024-08-04T16:40:28.311103Z",
     "shell.execute_reply": "2024-08-04T16:40:28.309899Z"
    },
    "papermill": {
     "duration": 0.048441,
     "end_time": "2024-08-04T16:40:28.313668",
     "exception": false,
     "start_time": "2024-08-04T16:40:28.265227",
     "status": "completed"
    },
    "tags": []
   },
   "outputs": [
    {
     "data": {
      "text/html": [
       "<div>\n",
       "<style scoped>\n",
       "    .dataframe tbody tr th:only-of-type {\n",
       "        vertical-align: middle;\n",
       "    }\n",
       "\n",
       "    .dataframe tbody tr th {\n",
       "        vertical-align: top;\n",
       "    }\n",
       "\n",
       "    .dataframe thead th {\n",
       "        text-align: right;\n",
       "    }\n",
       "</style>\n",
       "<table border=\"1\" class=\"dataframe\">\n",
       "  <thead>\n",
       "    <tr style=\"text-align: right;\">\n",
       "      <th></th>\n",
       "      <th>median</th>\n",
       "      <th>mean</th>\n",
       "    </tr>\n",
       "    <tr>\n",
       "      <th>Title</th>\n",
       "      <th></th>\n",
       "      <th></th>\n",
       "    </tr>\n",
       "  </thead>\n",
       "  <tbody>\n",
       "    <tr>\n",
       "      <th>Master</th>\n",
       "      <td>4.0</td>\n",
       "      <td>5.482642</td>\n",
       "    </tr>\n",
       "    <tr>\n",
       "      <th>Miss</th>\n",
       "      <td>22.0</td>\n",
       "      <td>21.795236</td>\n",
       "    </tr>\n",
       "    <tr>\n",
       "      <th>Mr</th>\n",
       "      <td>30.0</td>\n",
       "      <td>32.731405</td>\n",
       "    </tr>\n",
       "    <tr>\n",
       "      <th>Mrs</th>\n",
       "      <td>35.5</td>\n",
       "      <td>36.988636</td>\n",
       "    </tr>\n",
       "  </tbody>\n",
       "</table>\n",
       "</div>"
      ],
      "text/plain": [
       "        median       mean\n",
       "Title                    \n",
       "Master     4.0   5.482642\n",
       "Miss      22.0  21.795236\n",
       "Mr        30.0  32.731405\n",
       "Mrs       35.5  36.988636"
      ]
     },
     "execution_count": 35,
     "metadata": {},
     "output_type": "execute_result"
    }
   ],
   "source": [
    "titanic_data.groupby('Title')['Age'].agg({'mean', 'median'})"
   ]
  },
  {
   "cell_type": "code",
   "execution_count": 36,
   "id": "935415d8",
   "metadata": {
    "execution": {
     "iopub.execute_input": "2024-08-04T16:40:28.369497Z",
     "iopub.status.busy": "2024-08-04T16:40:28.368520Z",
     "iopub.status.idle": "2024-08-04T16:40:28.386185Z",
     "shell.execute_reply": "2024-08-04T16:40:28.384995Z"
    },
    "papermill": {
     "duration": 0.048719,
     "end_time": "2024-08-04T16:40:28.388988",
     "exception": false,
     "start_time": "2024-08-04T16:40:28.340269",
     "status": "completed"
    },
    "tags": []
   },
   "outputs": [
    {
     "data": {
      "text/html": [
       "<div>\n",
       "<style scoped>\n",
       "    .dataframe tbody tr th:only-of-type {\n",
       "        vertical-align: middle;\n",
       "    }\n",
       "\n",
       "    .dataframe tbody tr th {\n",
       "        vertical-align: top;\n",
       "    }\n",
       "\n",
       "    .dataframe thead th {\n",
       "        text-align: right;\n",
       "    }\n",
       "</style>\n",
       "<table border=\"1\" class=\"dataframe\">\n",
       "  <thead>\n",
       "    <tr style=\"text-align: right;\">\n",
       "      <th></th>\n",
       "      <th>max</th>\n",
       "      <th>median</th>\n",
       "      <th>mean</th>\n",
       "    </tr>\n",
       "    <tr>\n",
       "      <th>Pclass</th>\n",
       "      <th></th>\n",
       "      <th></th>\n",
       "      <th></th>\n",
       "    </tr>\n",
       "  </thead>\n",
       "  <tbody>\n",
       "    <tr>\n",
       "      <th>1</th>\n",
       "      <td>76.0</td>\n",
       "      <td>39.0</td>\n",
       "      <td>39.047254</td>\n",
       "    </tr>\n",
       "    <tr>\n",
       "      <th>2</th>\n",
       "      <td>70.0</td>\n",
       "      <td>29.0</td>\n",
       "      <td>29.506705</td>\n",
       "    </tr>\n",
       "    <tr>\n",
       "      <th>3</th>\n",
       "      <td>74.0</td>\n",
       "      <td>24.0</td>\n",
       "      <td>24.816367</td>\n",
       "    </tr>\n",
       "  </tbody>\n",
       "</table>\n",
       "</div>"
      ],
      "text/plain": [
       "         max  median       mean\n",
       "Pclass                         \n",
       "1       76.0    39.0  39.047254\n",
       "2       70.0    29.0  29.506705\n",
       "3       74.0    24.0  24.816367"
      ]
     },
     "execution_count": 36,
     "metadata": {},
     "output_type": "execute_result"
    }
   ],
   "source": [
    "titanic_data.groupby('Pclass')['Age'].agg({'mean', 'median', 'max'})"
   ]
  },
  {
   "cell_type": "code",
   "execution_count": 37,
   "id": "742da1e6",
   "metadata": {
    "execution": {
     "iopub.execute_input": "2024-08-04T16:40:28.445243Z",
     "iopub.status.busy": "2024-08-04T16:40:28.444442Z",
     "iopub.status.idle": "2024-08-04T16:40:28.451107Z",
     "shell.execute_reply": "2024-08-04T16:40:28.449955Z"
    },
    "papermill": {
     "duration": 0.037543,
     "end_time": "2024-08-04T16:40:28.453729",
     "exception": false,
     "start_time": "2024-08-04T16:40:28.416186",
     "status": "completed"
    },
    "tags": []
   },
   "outputs": [],
   "source": [
    "# 'Age' 컬럼 결측치 채우기\n",
    "def Age_Filler(df=None):\n",
    "    df['Age'] = df.groupby('Title')['Age'].transform(lambda x: x.fillna(x.median()))\n",
    "    df['Age'] = df['Age'].astype('int64')\n",
    "    return df"
   ]
  },
  {
   "cell_type": "code",
   "execution_count": 38,
   "id": "eae70161",
   "metadata": {
    "execution": {
     "iopub.execute_input": "2024-08-04T16:40:28.508967Z",
     "iopub.status.busy": "2024-08-04T16:40:28.508351Z",
     "iopub.status.idle": "2024-08-04T16:40:28.516652Z",
     "shell.execute_reply": "2024-08-04T16:40:28.514541Z"
    },
    "papermill": {
     "duration": 0.039246,
     "end_time": "2024-08-04T16:40:28.519571",
     "exception": false,
     "start_time": "2024-08-04T16:40:28.480325",
     "status": "completed"
    },
    "tags": []
   },
   "outputs": [],
   "source": [
    "# 'Fare' 컬럼 결측치 채우기\n",
    "def Fare_Filler(df=None):\n",
    "    df['Fare'] = df.groupby('Pclass')['Fare'].transform(lambda x: x.fillna(x.mean()))\n",
    "    return df"
   ]
  },
  {
   "cell_type": "code",
   "execution_count": 39,
   "id": "e60b681c",
   "metadata": {
    "execution": {
     "iopub.execute_input": "2024-08-04T16:40:28.576626Z",
     "iopub.status.busy": "2024-08-04T16:40:28.575637Z",
     "iopub.status.idle": "2024-08-04T16:40:28.580922Z",
     "shell.execute_reply": "2024-08-04T16:40:28.579927Z"
    },
    "papermill": {
     "duration": 0.036881,
     "end_time": "2024-08-04T16:40:28.583432",
     "exception": false,
     "start_time": "2024-08-04T16:40:28.546551",
     "status": "completed"
    },
    "tags": []
   },
   "outputs": [],
   "source": [
    "def secondary_pipeline(df):\n",
    "    df = Age_Filler(df)\n",
    "    df = Fare_Filler(df)\n",
    "    return df"
   ]
  },
  {
   "cell_type": "code",
   "execution_count": 40,
   "id": "b8862693",
   "metadata": {
    "execution": {
     "iopub.execute_input": "2024-08-04T16:40:28.640737Z",
     "iopub.status.busy": "2024-08-04T16:40:28.640334Z",
     "iopub.status.idle": "2024-08-04T16:40:28.654226Z",
     "shell.execute_reply": "2024-08-04T16:40:28.653089Z"
    },
    "papermill": {
     "duration": 0.046557,
     "end_time": "2024-08-04T16:40:28.657001",
     "exception": false,
     "start_time": "2024-08-04T16:40:28.610444",
     "status": "completed"
    },
    "tags": []
   },
   "outputs": [],
   "source": [
    "titanic_data = secondary_pipeline(titanic_data)"
   ]
  },
  {
   "cell_type": "code",
   "execution_count": 41,
   "id": "ba5f5933",
   "metadata": {
    "execution": {
     "iopub.execute_input": "2024-08-04T16:40:28.712994Z",
     "iopub.status.busy": "2024-08-04T16:40:28.712537Z",
     "iopub.status.idle": "2024-08-04T16:40:28.723571Z",
     "shell.execute_reply": "2024-08-04T16:40:28.722469Z"
    },
    "papermill": {
     "duration": 0.042681,
     "end_time": "2024-08-04T16:40:28.726263",
     "exception": false,
     "start_time": "2024-08-04T16:40:28.683582",
     "status": "completed"
    },
    "tags": []
   },
   "outputs": [
    {
     "data": {
      "text/plain": [
       "PassengerId      0\n",
       "Survived       418\n",
       "Pclass           0\n",
       "Name             0\n",
       "Sex              0\n",
       "Age              0\n",
       "SibSp            0\n",
       "Parch            0\n",
       "Ticket           0\n",
       "Fare             0\n",
       "Cabin            0\n",
       "Embarked         0\n",
       "Surname          0\n",
       "Title            0\n",
       "Family           0\n",
       "dtype: int64"
      ]
     },
     "execution_count": 41,
     "metadata": {},
     "output_type": "execute_result"
    }
   ],
   "source": [
    "titanic_data.isna().sum()"
   ]
  },
  {
   "cell_type": "code",
   "execution_count": 42,
   "id": "44aa82fb",
   "metadata": {
    "execution": {
     "iopub.execute_input": "2024-08-04T16:40:28.782886Z",
     "iopub.status.busy": "2024-08-04T16:40:28.782459Z",
     "iopub.status.idle": "2024-08-04T16:40:28.796953Z",
     "shell.execute_reply": "2024-08-04T16:40:28.795773Z"
    },
    "papermill": {
     "duration": 0.046396,
     "end_time": "2024-08-04T16:40:28.799729",
     "exception": false,
     "start_time": "2024-08-04T16:40:28.753333",
     "status": "completed"
    },
    "tags": []
   },
   "outputs": [
    {
     "data": {
      "text/html": [
       "<div>\n",
       "<style scoped>\n",
       "    .dataframe tbody tr th:only-of-type {\n",
       "        vertical-align: middle;\n",
       "    }\n",
       "\n",
       "    .dataframe tbody tr th {\n",
       "        vertical-align: top;\n",
       "    }\n",
       "\n",
       "    .dataframe thead th {\n",
       "        text-align: right;\n",
       "    }\n",
       "</style>\n",
       "<table border=\"1\" class=\"dataframe\">\n",
       "  <thead>\n",
       "    <tr style=\"text-align: right;\">\n",
       "      <th></th>\n",
       "      <th>median</th>\n",
       "      <th>mean</th>\n",
       "    </tr>\n",
       "    <tr>\n",
       "      <th>Pclass</th>\n",
       "      <th></th>\n",
       "      <th></th>\n",
       "    </tr>\n",
       "  </thead>\n",
       "  <tbody>\n",
       "    <tr>\n",
       "      <th>1</th>\n",
       "      <td>60.0000</td>\n",
       "      <td>87.508992</td>\n",
       "    </tr>\n",
       "    <tr>\n",
       "      <th>2</th>\n",
       "      <td>15.0458</td>\n",
       "      <td>21.179196</td>\n",
       "    </tr>\n",
       "    <tr>\n",
       "      <th>3</th>\n",
       "      <td>8.0500</td>\n",
       "      <td>13.302889</td>\n",
       "    </tr>\n",
       "  </tbody>\n",
       "</table>\n",
       "</div>"
      ],
      "text/plain": [
       "         median       mean\n",
       "Pclass                    \n",
       "1       60.0000  87.508992\n",
       "2       15.0458  21.179196\n",
       "3        8.0500  13.302889"
      ]
     },
     "execution_count": 42,
     "metadata": {},
     "output_type": "execute_result"
    }
   ],
   "source": [
    "# Pclsss 피쳐 변환 확인 \n",
    "titanic_data.groupby('Pclass')['Fare'].agg({'mean', 'median'})"
   ]
  },
  {
   "cell_type": "code",
   "execution_count": 43,
   "id": "24d31ec5",
   "metadata": {
    "execution": {
     "iopub.execute_input": "2024-08-04T16:40:28.856470Z",
     "iopub.status.busy": "2024-08-04T16:40:28.856048Z",
     "iopub.status.idle": "2024-08-04T16:40:28.872094Z",
     "shell.execute_reply": "2024-08-04T16:40:28.870805Z"
    },
    "papermill": {
     "duration": 0.047777,
     "end_time": "2024-08-04T16:40:28.874777",
     "exception": false,
     "start_time": "2024-08-04T16:40:28.827000",
     "status": "completed"
    },
    "tags": []
   },
   "outputs": [
    {
     "data": {
      "text/html": [
       "<div>\n",
       "<style scoped>\n",
       "    .dataframe tbody tr th:only-of-type {\n",
       "        vertical-align: middle;\n",
       "    }\n",
       "\n",
       "    .dataframe tbody tr th {\n",
       "        vertical-align: top;\n",
       "    }\n",
       "\n",
       "    .dataframe thead th {\n",
       "        text-align: right;\n",
       "    }\n",
       "</style>\n",
       "<table border=\"1\" class=\"dataframe\">\n",
       "  <thead>\n",
       "    <tr style=\"text-align: right;\">\n",
       "      <th></th>\n",
       "      <th>median</th>\n",
       "      <th>mean</th>\n",
       "    </tr>\n",
       "    <tr>\n",
       "      <th>Title</th>\n",
       "      <th></th>\n",
       "      <th></th>\n",
       "    </tr>\n",
       "  </thead>\n",
       "  <tbody>\n",
       "    <tr>\n",
       "      <th>Master</th>\n",
       "      <td>4.0</td>\n",
       "      <td>5.180328</td>\n",
       "    </tr>\n",
       "    <tr>\n",
       "      <th>Miss</th>\n",
       "      <td>22.0</td>\n",
       "      <td>21.816794</td>\n",
       "    </tr>\n",
       "    <tr>\n",
       "      <th>Mr</th>\n",
       "      <td>30.0</td>\n",
       "      <td>32.095908</td>\n",
       "    </tr>\n",
       "    <tr>\n",
       "      <th>Mrs</th>\n",
       "      <td>35.0</td>\n",
       "      <td>36.715686</td>\n",
       "    </tr>\n",
       "  </tbody>\n",
       "</table>\n",
       "</div>"
      ],
      "text/plain": [
       "        median       mean\n",
       "Title                    \n",
       "Master     4.0   5.180328\n",
       "Miss      22.0  21.816794\n",
       "Mr        30.0  32.095908\n",
       "Mrs       35.0  36.715686"
      ]
     },
     "execution_count": 43,
     "metadata": {},
     "output_type": "execute_result"
    }
   ],
   "source": [
    "# Age 변화를 확인\n",
    "titanic_data.groupby('Title')['Age'].agg({'mean', 'median'}) "
   ]
  },
  {
   "cell_type": "code",
   "execution_count": 44,
   "id": "df80e781",
   "metadata": {
    "execution": {
     "iopub.execute_input": "2024-08-04T16:40:28.932548Z",
     "iopub.status.busy": "2024-08-04T16:40:28.932142Z",
     "iopub.status.idle": "2024-08-04T16:40:28.946049Z",
     "shell.execute_reply": "2024-08-04T16:40:28.944909Z"
    },
    "papermill": {
     "duration": 0.045876,
     "end_time": "2024-08-04T16:40:28.948759",
     "exception": false,
     "start_time": "2024-08-04T16:40:28.902883",
     "status": "completed"
    },
    "tags": []
   },
   "outputs": [],
   "source": [
    "# 'Family_Survival' 컬럼 생성\n",
    "def get_Family_Survival(df=None):\n",
    "    def_survive_val = 0.5\n",
    "    df['Family_Survival'] = def_survive_val\n",
    "    survive_df = df[['Survived', 'Name', 'Surname'\n",
    "                     , 'Fare', 'Ticket', 'PassengerId'\n",
    "                     , 'SibSp', 'Parch', 'Age', 'Cabin']]\n",
    "\n",
    "    for grp, grp_df in survive_df.groupby(['Surname', 'Fare']):\n",
    "        if (len(grp_df) != 1):\n",
    "            # 가족 그룹(같은 성씨, Fare 2명 이상)을 찾았다.\n",
    "            for idx, row in grp_df.iterrows():\n",
    "                max_sur = grp_df.drop(idx)['Survived'].max()\n",
    "                min_sur = grp_df.drop(idx)['Survived'].min()\n",
    "                passID = row['PassengerId']\n",
    "                # 다른 가족의 생존 여부를 이 컬럼에 기록함\n",
    "                if (max_sur == 1.0):\n",
    "                    df.loc[df['PassengerId'] == passID, 'Family_Survival'] = 1\n",
    "                elif (min_sur == 0.0):\n",
    "                    df.loc[df['PassengerId'] == passID, 'Family_Survival'] = 0\n",
    "\n",
    "    for _, grp_df in df.groupby('Ticket'):\n",
    "        if (len(grp_df) != 1):\n",
    "            # 같은 티켓번호를 가진 다른 사람을 찾았다.\n",
    "            for idx, row in grp_df.iterrows():\n",
    "                if (row['Family_Survival'] == 0) | (row['Family_Survival']== 0.5):\n",
    "                    max_sur = grp_df.drop(idx)['Survived'].max()\n",
    "                    min_sur = grp_df.drop(idx)['Survived'].min()\n",
    "                    passID = row['PassengerId']\n",
    "                    # 같은 티켓번호를 가진 다른 사람의 생존 여부를 이 컬럼에 기록함\n",
    "                    if (max_sur == 1.0):\n",
    "                        df.loc[df['PassengerId'] == passID, 'Family_Survival'] = 1\n",
    "                    elif (min_sur == 0.0):\n",
    "                        df.loc[df['PassengerId'] == passID, 'Family_Survival'] = 0\n",
    "\n",
    "    return df"
   ]
  },
  {
   "cell_type": "code",
   "execution_count": 45,
   "id": "db2e5d0c",
   "metadata": {
    "execution": {
     "iopub.execute_input": "2024-08-04T16:40:29.006089Z",
     "iopub.status.busy": "2024-08-04T16:40:29.005639Z",
     "iopub.status.idle": "2024-08-04T16:40:30.835571Z",
     "shell.execute_reply": "2024-08-04T16:40:30.834594Z"
    },
    "papermill": {
     "duration": 1.861758,
     "end_time": "2024-08-04T16:40:30.838305",
     "exception": false,
     "start_time": "2024-08-04T16:40:28.976547",
     "status": "completed"
    },
    "tags": []
   },
   "outputs": [],
   "source": [
    "titanic_data=get_Family_Survival(titanic_data)"
   ]
  },
  {
   "cell_type": "code",
   "execution_count": 46,
   "id": "f3d1b32f",
   "metadata": {
    "execution": {
     "iopub.execute_input": "2024-08-04T16:40:30.897025Z",
     "iopub.status.busy": "2024-08-04T16:40:30.896598Z",
     "iopub.status.idle": "2024-08-04T16:40:30.901874Z",
     "shell.execute_reply": "2024-08-04T16:40:30.900871Z"
    },
    "papermill": {
     "duration": 0.037681,
     "end_time": "2024-08-04T16:40:30.904136",
     "exception": false,
     "start_time": "2024-08-04T16:40:30.866455",
     "status": "completed"
    },
    "tags": []
   },
   "outputs": [],
   "source": [
    "# Age를 범주화\n",
    "def age_cutting(df=None):\n",
    "    df['Age'] = pd.qcut(df['Age'], 4)\n",
    "    return df\n"
   ]
  },
  {
   "cell_type": "code",
   "execution_count": 47,
   "id": "ca9d8385",
   "metadata": {
    "execution": {
     "iopub.execute_input": "2024-08-04T16:40:30.961756Z",
     "iopub.status.busy": "2024-08-04T16:40:30.961383Z",
     "iopub.status.idle": "2024-08-04T16:40:30.966993Z",
     "shell.execute_reply": "2024-08-04T16:40:30.965731Z"
    },
    "papermill": {
     "duration": 0.037415,
     "end_time": "2024-08-04T16:40:30.969342",
     "exception": false,
     "start_time": "2024-08-04T16:40:30.931927",
     "status": "completed"
    },
    "tags": []
   },
   "outputs": [],
   "source": [
    "# Fare를 범주화\n",
    "def fare_cutting(df=None):\n",
    "    df['Fare'] = pd.qcut(df['Fare'], 4)\n",
    "    return df"
   ]
  },
  {
   "cell_type": "code",
   "execution_count": 48,
   "id": "c7cb54e1",
   "metadata": {
    "execution": {
     "iopub.execute_input": "2024-08-04T16:40:31.025794Z",
     "iopub.status.busy": "2024-08-04T16:40:31.025421Z",
     "iopub.status.idle": "2024-08-04T16:40:31.031129Z",
     "shell.execute_reply": "2024-08-04T16:40:31.029900Z"
    },
    "papermill": {
     "duration": 0.03702,
     "end_time": "2024-08-04T16:40:31.033679",
     "exception": false,
     "start_time": "2024-08-04T16:40:30.996659",
     "status": "completed"
    },
    "tags": []
   },
   "outputs": [],
   "source": [
    "def cabin_labeling(df=None):\n",
    "    encode = LabelEncoder()\n",
    "    df['Cabin'] = encode.fit_transform(df['Cabin'])\n",
    "    return df"
   ]
  },
  {
   "cell_type": "code",
   "execution_count": 49,
   "id": "6d58b593",
   "metadata": {
    "execution": {
     "iopub.execute_input": "2024-08-04T16:40:31.091590Z",
     "iopub.status.busy": "2024-08-04T16:40:31.091230Z",
     "iopub.status.idle": "2024-08-04T16:40:31.097028Z",
     "shell.execute_reply": "2024-08-04T16:40:31.095842Z"
    },
    "papermill": {
     "duration": 0.038644,
     "end_time": "2024-08-04T16:40:31.100079",
     "exception": false,
     "start_time": "2024-08-04T16:40:31.061435",
     "status": "completed"
    },
    "tags": []
   },
   "outputs": [],
   "source": [
    "def cutting_pipeline(df):\n",
    "    df = age_cutting(df)\n",
    "    df = fare_cutting(df)\n",
    "    df = cabin_labeling(df)    \n",
    "    return df"
   ]
  },
  {
   "cell_type": "code",
   "execution_count": 50,
   "id": "c4789f14",
   "metadata": {
    "execution": {
     "iopub.execute_input": "2024-08-04T16:40:31.157794Z",
     "iopub.status.busy": "2024-08-04T16:40:31.156886Z",
     "iopub.status.idle": "2024-08-04T16:40:31.177632Z",
     "shell.execute_reply": "2024-08-04T16:40:31.176492Z"
    },
    "papermill": {
     "duration": 0.053166,
     "end_time": "2024-08-04T16:40:31.180555",
     "exception": false,
     "start_time": "2024-08-04T16:40:31.127389",
     "status": "completed"
    },
    "tags": []
   },
   "outputs": [],
   "source": [
    "titanic_data = cutting_pipeline(titanic_data)"
   ]
  },
  {
   "cell_type": "code",
   "execution_count": 51,
   "id": "b2326e9b",
   "metadata": {
    "execution": {
     "iopub.execute_input": "2024-08-04T16:40:31.236998Z",
     "iopub.status.busy": "2024-08-04T16:40:31.236530Z",
     "iopub.status.idle": "2024-08-04T16:40:31.260993Z",
     "shell.execute_reply": "2024-08-04T16:40:31.259880Z"
    },
    "papermill": {
     "duration": 0.055989,
     "end_time": "2024-08-04T16:40:31.263742",
     "exception": false,
     "start_time": "2024-08-04T16:40:31.207753",
     "status": "completed"
    },
    "tags": []
   },
   "outputs": [
    {
     "data": {
      "text/html": [
       "<div>\n",
       "<style scoped>\n",
       "    .dataframe tbody tr th:only-of-type {\n",
       "        vertical-align: middle;\n",
       "    }\n",
       "\n",
       "    .dataframe tbody tr th {\n",
       "        vertical-align: top;\n",
       "    }\n",
       "\n",
       "    .dataframe thead th {\n",
       "        text-align: right;\n",
       "    }\n",
       "</style>\n",
       "<table border=\"1\" class=\"dataframe\">\n",
       "  <thead>\n",
       "    <tr style=\"text-align: right;\">\n",
       "      <th></th>\n",
       "      <th>PassengerId</th>\n",
       "      <th>Survived</th>\n",
       "      <th>Pclass</th>\n",
       "      <th>Name</th>\n",
       "      <th>Sex</th>\n",
       "      <th>Age</th>\n",
       "      <th>SibSp</th>\n",
       "      <th>Parch</th>\n",
       "      <th>Ticket</th>\n",
       "      <th>Fare</th>\n",
       "      <th>Cabin</th>\n",
       "      <th>Embarked</th>\n",
       "      <th>Surname</th>\n",
       "      <th>Title</th>\n",
       "      <th>Family</th>\n",
       "      <th>Family_Survival</th>\n",
       "    </tr>\n",
       "  </thead>\n",
       "  <tbody>\n",
       "    <tr>\n",
       "      <th>0</th>\n",
       "      <td>1</td>\n",
       "      <td>0.0</td>\n",
       "      <td>3</td>\n",
       "      <td>Braund, Mr. Owen Harris</td>\n",
       "      <td>male</td>\n",
       "      <td>(-0.001, 22.0]</td>\n",
       "      <td>1</td>\n",
       "      <td>0</td>\n",
       "      <td>A/5 21171</td>\n",
       "      <td>(-0.001, 7.896]</td>\n",
       "      <td>5</td>\n",
       "      <td>S</td>\n",
       "      <td>Braund</td>\n",
       "      <td>Mr</td>\n",
       "      <td>1</td>\n",
       "      <td>0.5</td>\n",
       "    </tr>\n",
       "    <tr>\n",
       "      <th>1</th>\n",
       "      <td>2</td>\n",
       "      <td>1.0</td>\n",
       "      <td>1</td>\n",
       "      <td>Cumings, Mrs. John Bradley (Florence Briggs Th...</td>\n",
       "      <td>female</td>\n",
       "      <td>(35.0, 76.0]</td>\n",
       "      <td>1</td>\n",
       "      <td>0</td>\n",
       "      <td>PC 17599</td>\n",
       "      <td>(31.275, 512.329]</td>\n",
       "      <td>2</td>\n",
       "      <td>C</td>\n",
       "      <td>Cumings</td>\n",
       "      <td>Mrs</td>\n",
       "      <td>1</td>\n",
       "      <td>0.5</td>\n",
       "    </tr>\n",
       "    <tr>\n",
       "      <th>2</th>\n",
       "      <td>3</td>\n",
       "      <td>1.0</td>\n",
       "      <td>3</td>\n",
       "      <td>Heikkinen, Miss. Laina</td>\n",
       "      <td>female</td>\n",
       "      <td>(22.0, 30.0]</td>\n",
       "      <td>0</td>\n",
       "      <td>0</td>\n",
       "      <td>STON/O2. 3101282</td>\n",
       "      <td>(7.896, 14.454]</td>\n",
       "      <td>5</td>\n",
       "      <td>S</td>\n",
       "      <td>Heikkinen</td>\n",
       "      <td>Miss</td>\n",
       "      <td>0</td>\n",
       "      <td>0.5</td>\n",
       "    </tr>\n",
       "    <tr>\n",
       "      <th>3</th>\n",
       "      <td>4</td>\n",
       "      <td>1.0</td>\n",
       "      <td>1</td>\n",
       "      <td>Futrelle, Mrs. Jacques Heath (Lily May Peel)</td>\n",
       "      <td>female</td>\n",
       "      <td>(30.0, 35.0]</td>\n",
       "      <td>1</td>\n",
       "      <td>0</td>\n",
       "      <td>113803</td>\n",
       "      <td>(31.275, 512.329]</td>\n",
       "      <td>2</td>\n",
       "      <td>S</td>\n",
       "      <td>Futrelle</td>\n",
       "      <td>Mrs</td>\n",
       "      <td>1</td>\n",
       "      <td>0.0</td>\n",
       "    </tr>\n",
       "    <tr>\n",
       "      <th>4</th>\n",
       "      <td>5</td>\n",
       "      <td>0.0</td>\n",
       "      <td>3</td>\n",
       "      <td>Allen, Mr. William Henry</td>\n",
       "      <td>male</td>\n",
       "      <td>(30.0, 35.0]</td>\n",
       "      <td>0</td>\n",
       "      <td>0</td>\n",
       "      <td>373450</td>\n",
       "      <td>(7.896, 14.454]</td>\n",
       "      <td>5</td>\n",
       "      <td>S</td>\n",
       "      <td>Allen</td>\n",
       "      <td>Mr</td>\n",
       "      <td>0</td>\n",
       "      <td>0.5</td>\n",
       "    </tr>\n",
       "  </tbody>\n",
       "</table>\n",
       "</div>"
      ],
      "text/plain": [
       "   PassengerId  Survived  Pclass  \\\n",
       "0            1       0.0       3   \n",
       "1            2       1.0       1   \n",
       "2            3       1.0       3   \n",
       "3            4       1.0       1   \n",
       "4            5       0.0       3   \n",
       "\n",
       "                                                Name     Sex             Age  \\\n",
       "0                            Braund, Mr. Owen Harris    male  (-0.001, 22.0]   \n",
       "1  Cumings, Mrs. John Bradley (Florence Briggs Th...  female    (35.0, 76.0]   \n",
       "2                             Heikkinen, Miss. Laina  female    (22.0, 30.0]   \n",
       "3       Futrelle, Mrs. Jacques Heath (Lily May Peel)  female    (30.0, 35.0]   \n",
       "4                           Allen, Mr. William Henry    male    (30.0, 35.0]   \n",
       "\n",
       "   SibSp  Parch            Ticket               Fare  Cabin Embarked  \\\n",
       "0      1      0         A/5 21171    (-0.001, 7.896]      5        S   \n",
       "1      1      0          PC 17599  (31.275, 512.329]      2        C   \n",
       "2      0      0  STON/O2. 3101282    (7.896, 14.454]      5        S   \n",
       "3      1      0            113803  (31.275, 512.329]      2        S   \n",
       "4      0      0            373450    (7.896, 14.454]      5        S   \n",
       "\n",
       "     Surname Title  Family  Family_Survival  \n",
       "0     Braund    Mr       1              0.5  \n",
       "1    Cumings   Mrs       1              0.5  \n",
       "2  Heikkinen  Miss       0              0.5  \n",
       "3   Futrelle   Mrs       1              0.0  \n",
       "4      Allen    Mr       0              0.5  "
      ]
     },
     "execution_count": 51,
     "metadata": {},
     "output_type": "execute_result"
    }
   ],
   "source": [
    "titanic_data.head()    "
   ]
  },
  {
   "cell_type": "code",
   "execution_count": 52,
   "id": "c747b60a",
   "metadata": {
    "execution": {
     "iopub.execute_input": "2024-08-04T16:40:31.322756Z",
     "iopub.status.busy": "2024-08-04T16:40:31.321659Z",
     "iopub.status.idle": "2024-08-04T16:40:31.327762Z",
     "shell.execute_reply": "2024-08-04T16:40:31.326684Z"
    },
    "papermill": {
     "duration": 0.038591,
     "end_time": "2024-08-04T16:40:31.330218",
     "exception": false,
     "start_time": "2024-08-04T16:40:31.291627",
     "status": "completed"
    },
    "tags": []
   },
   "outputs": [],
   "source": [
    "def drop_cols(df=None):\n",
    "    drop_cols = ['Name', 'Ticket', 'PassengerId','Surname', 'SibSp', 'Parch']\n",
    "    df = df.drop(drop_cols, axis=1)\n",
    "    return df"
   ]
  },
  {
   "cell_type": "code",
   "execution_count": 53,
   "id": "26c644fa",
   "metadata": {
    "execution": {
     "iopub.execute_input": "2024-08-04T16:40:31.387174Z",
     "iopub.status.busy": "2024-08-04T16:40:31.386751Z",
     "iopub.status.idle": "2024-08-04T16:40:31.392969Z",
     "shell.execute_reply": "2024-08-04T16:40:31.391873Z"
    },
    "papermill": {
     "duration": 0.037747,
     "end_time": "2024-08-04T16:40:31.395530",
     "exception": false,
     "start_time": "2024-08-04T16:40:31.357783",
     "status": "completed"
    },
    "tags": []
   },
   "outputs": [],
   "source": [
    "# 성별 인코딩\n",
    "def encode_label(df):\n",
    "    label = LabelEncoder()\n",
    "    cols = ['Sex', 'Embarked', 'Title', 'Fare', 'Age']\n",
    "    df[cols] = df[cols].apply(label.fit_transform)\n",
    "    return df"
   ]
  },
  {
   "cell_type": "code",
   "execution_count": 54,
   "id": "861f3c5d",
   "metadata": {
    "execution": {
     "iopub.execute_input": "2024-08-04T16:40:31.453850Z",
     "iopub.status.busy": "2024-08-04T16:40:31.453404Z",
     "iopub.status.idle": "2024-08-04T16:40:31.459027Z",
     "shell.execute_reply": "2024-08-04T16:40:31.457894Z"
    },
    "papermill": {
     "duration": 0.037799,
     "end_time": "2024-08-04T16:40:31.461977",
     "exception": false,
     "start_time": "2024-08-04T16:40:31.424178",
     "status": "completed"
    },
    "tags": []
   },
   "outputs": [],
   "source": [
    "def last_pipeline(df):\n",
    "    df = drop_cols(df)\n",
    "    df = encode_label(df)\n",
    "    return df"
   ]
  },
  {
   "cell_type": "code",
   "execution_count": 55,
   "id": "9446e456",
   "metadata": {
    "execution": {
     "iopub.execute_input": "2024-08-04T16:40:31.520913Z",
     "iopub.status.busy": "2024-08-04T16:40:31.520478Z",
     "iopub.status.idle": "2024-08-04T16:40:31.542975Z",
     "shell.execute_reply": "2024-08-04T16:40:31.541872Z"
    },
    "papermill": {
     "duration": 0.054621,
     "end_time": "2024-08-04T16:40:31.545783",
     "exception": false,
     "start_time": "2024-08-04T16:40:31.491162",
     "status": "completed"
    },
    "tags": []
   },
   "outputs": [],
   "source": [
    "titanic_data = last_pipeline(titanic_data)"
   ]
  },
  {
   "cell_type": "code",
   "execution_count": 56,
   "id": "00f5b5df",
   "metadata": {
    "execution": {
     "iopub.execute_input": "2024-08-04T16:40:31.603064Z",
     "iopub.status.busy": "2024-08-04T16:40:31.602625Z",
     "iopub.status.idle": "2024-08-04T16:40:31.618843Z",
     "shell.execute_reply": "2024-08-04T16:40:31.617640Z"
    },
    "papermill": {
     "duration": 0.047619,
     "end_time": "2024-08-04T16:40:31.621209",
     "exception": false,
     "start_time": "2024-08-04T16:40:31.573590",
     "status": "completed"
    },
    "tags": []
   },
   "outputs": [
    {
     "data": {
      "text/html": [
       "<div>\n",
       "<style scoped>\n",
       "    .dataframe tbody tr th:only-of-type {\n",
       "        vertical-align: middle;\n",
       "    }\n",
       "\n",
       "    .dataframe tbody tr th {\n",
       "        vertical-align: top;\n",
       "    }\n",
       "\n",
       "    .dataframe thead th {\n",
       "        text-align: right;\n",
       "    }\n",
       "</style>\n",
       "<table border=\"1\" class=\"dataframe\">\n",
       "  <thead>\n",
       "    <tr style=\"text-align: right;\">\n",
       "      <th></th>\n",
       "      <th>Survived</th>\n",
       "      <th>Pclass</th>\n",
       "      <th>Sex</th>\n",
       "      <th>Age</th>\n",
       "      <th>Fare</th>\n",
       "      <th>Cabin</th>\n",
       "      <th>Embarked</th>\n",
       "      <th>Title</th>\n",
       "      <th>Family</th>\n",
       "      <th>Family_Survival</th>\n",
       "    </tr>\n",
       "  </thead>\n",
       "  <tbody>\n",
       "    <tr>\n",
       "      <th>0</th>\n",
       "      <td>0.0</td>\n",
       "      <td>3</td>\n",
       "      <td>1</td>\n",
       "      <td>0</td>\n",
       "      <td>0</td>\n",
       "      <td>5</td>\n",
       "      <td>2</td>\n",
       "      <td>2</td>\n",
       "      <td>1</td>\n",
       "      <td>0.5</td>\n",
       "    </tr>\n",
       "    <tr>\n",
       "      <th>1</th>\n",
       "      <td>1.0</td>\n",
       "      <td>1</td>\n",
       "      <td>0</td>\n",
       "      <td>3</td>\n",
       "      <td>3</td>\n",
       "      <td>2</td>\n",
       "      <td>0</td>\n",
       "      <td>3</td>\n",
       "      <td>1</td>\n",
       "      <td>0.5</td>\n",
       "    </tr>\n",
       "    <tr>\n",
       "      <th>2</th>\n",
       "      <td>1.0</td>\n",
       "      <td>3</td>\n",
       "      <td>0</td>\n",
       "      <td>1</td>\n",
       "      <td>1</td>\n",
       "      <td>5</td>\n",
       "      <td>2</td>\n",
       "      <td>1</td>\n",
       "      <td>0</td>\n",
       "      <td>0.5</td>\n",
       "    </tr>\n",
       "    <tr>\n",
       "      <th>3</th>\n",
       "      <td>1.0</td>\n",
       "      <td>1</td>\n",
       "      <td>0</td>\n",
       "      <td>2</td>\n",
       "      <td>3</td>\n",
       "      <td>2</td>\n",
       "      <td>2</td>\n",
       "      <td>3</td>\n",
       "      <td>1</td>\n",
       "      <td>0.0</td>\n",
       "    </tr>\n",
       "    <tr>\n",
       "      <th>4</th>\n",
       "      <td>0.0</td>\n",
       "      <td>3</td>\n",
       "      <td>1</td>\n",
       "      <td>2</td>\n",
       "      <td>1</td>\n",
       "      <td>5</td>\n",
       "      <td>2</td>\n",
       "      <td>2</td>\n",
       "      <td>0</td>\n",
       "      <td>0.5</td>\n",
       "    </tr>\n",
       "  </tbody>\n",
       "</table>\n",
       "</div>"
      ],
      "text/plain": [
       "   Survived  Pclass  Sex  Age  Fare  Cabin  Embarked  Title  Family  \\\n",
       "0       0.0       3    1    0     0      5         2      2       1   \n",
       "1       1.0       1    0    3     3      2         0      3       1   \n",
       "2       1.0       3    0    1     1      5         2      1       0   \n",
       "3       1.0       1    0    2     3      2         2      3       1   \n",
       "4       0.0       3    1    2     1      5         2      2       0   \n",
       "\n",
       "   Family_Survival  \n",
       "0              0.5  \n",
       "1              0.5  \n",
       "2              0.5  \n",
       "3              0.0  \n",
       "4              0.5  "
      ]
     },
     "execution_count": 56,
     "metadata": {},
     "output_type": "execute_result"
    }
   ],
   "source": [
    "titanic_data.head()"
   ]
  },
  {
   "cell_type": "code",
   "execution_count": 57,
   "id": "8d74193e",
   "metadata": {
    "execution": {
     "iopub.execute_input": "2024-08-04T16:40:31.680978Z",
     "iopub.status.busy": "2024-08-04T16:40:31.680517Z",
     "iopub.status.idle": "2024-08-04T16:40:31.690434Z",
     "shell.execute_reply": "2024-08-04T16:40:31.689381Z"
    },
    "papermill": {
     "duration": 0.043281,
     "end_time": "2024-08-04T16:40:31.693035",
     "exception": false,
     "start_time": "2024-08-04T16:40:31.649754",
     "status": "completed"
    },
    "tags": []
   },
   "outputs": [],
   "source": [
    "# 학습데이터와 테스트데이터 분리\n",
    "train_set = titanic_data.iloc[:titanic_train.shape[0],]\n",
    "test_set = titanic_data.iloc[titanic_train.shape[0]:,]\n",
    "\n",
    "# 학습데이터의 데이터와 답 분리\n",
    "X_train = train_set.drop(['Survived'], axis=1)\n",
    "y_train = train_set['Survived']\n",
    "\n",
    "# 테스트데이터 생성\n",
    "X_test = test_set.drop(['Survived'], axis=1)"
   ]
  },
  {
   "cell_type": "code",
   "execution_count": 58,
   "id": "5b76ef73",
   "metadata": {
    "execution": {
     "iopub.execute_input": "2024-08-04T16:40:31.750722Z",
     "iopub.status.busy": "2024-08-04T16:40:31.750291Z",
     "iopub.status.idle": "2024-08-04T16:40:31.756153Z",
     "shell.execute_reply": "2024-08-04T16:40:31.755060Z"
    },
    "papermill": {
     "duration": 0.037425,
     "end_time": "2024-08-04T16:40:31.758496",
     "exception": false,
     "start_time": "2024-08-04T16:40:31.721071",
     "status": "completed"
    },
    "tags": []
   },
   "outputs": [],
   "source": [
    "def robust_scaling(X_train=None, X_test=None):\n",
    "    \n",
    "    scaler = RobustScaler()\n",
    "    X_train = scaler.fit_transform(X_train)\n",
    "    X_test = scaler.transform(X_test)\n",
    "    return X_train, X_test\n"
   ]
  },
  {
   "cell_type": "code",
   "execution_count": 59,
   "id": "d1df1034",
   "metadata": {
    "execution": {
     "iopub.execute_input": "2024-08-04T16:40:31.816459Z",
     "iopub.status.busy": "2024-08-04T16:40:31.816071Z",
     "iopub.status.idle": "2024-08-04T16:40:31.821843Z",
     "shell.execute_reply": "2024-08-04T16:40:31.820732Z"
    },
    "papermill": {
     "duration": 0.037805,
     "end_time": "2024-08-04T16:40:31.824229",
     "exception": false,
     "start_time": "2024-08-04T16:40:31.786424",
     "status": "completed"
    },
    "tags": []
   },
   "outputs": [],
   "source": [
    "def quantile_trans(X_train=None, X_test=None):\n",
    "    \n",
    "    scaler = QuantileTransformer(n_quantiles=100, output_distribution='normal')\n",
    "    X_train = scaler.fit_transform(X_train)\n",
    "    X_test = scaler.transform(X_test)\n",
    "    return X_train, X_test"
   ]
  },
  {
   "cell_type": "code",
   "execution_count": 60,
   "id": "1a062c3d",
   "metadata": {
    "execution": {
     "iopub.execute_input": "2024-08-04T16:40:31.881985Z",
     "iopub.status.busy": "2024-08-04T16:40:31.881554Z",
     "iopub.status.idle": "2024-08-04T16:40:31.887445Z",
     "shell.execute_reply": "2024-08-04T16:40:31.886331Z"
    },
    "papermill": {
     "duration": 0.037517,
     "end_time": "2024-08-04T16:40:31.889929",
     "exception": false,
     "start_time": "2024-08-04T16:40:31.852412",
     "status": "completed"
    },
    "tags": []
   },
   "outputs": [],
   "source": [
    "def standard_scaling(X_train=None, X_test=None):\n",
    "    \n",
    "    scaler = StandardScaler()\n",
    "    X_train = scaler.fit_transform(X_train)\n",
    "    X_test = scaler.transform(X_test)\n",
    "    return X_train, X_test"
   ]
  },
  {
   "cell_type": "code",
   "execution_count": 61,
   "id": "daabd2c7",
   "metadata": {
    "execution": {
     "iopub.execute_input": "2024-08-04T16:40:31.948362Z",
     "iopub.status.busy": "2024-08-04T16:40:31.947959Z",
     "iopub.status.idle": "2024-08-04T16:40:31.979318Z",
     "shell.execute_reply": "2024-08-04T16:40:31.978172Z"
    },
    "papermill": {
     "duration": 0.06395,
     "end_time": "2024-08-04T16:40:31.982181",
     "exception": false,
     "start_time": "2024-08-04T16:40:31.918231",
     "status": "completed"
    },
    "tags": []
   },
   "outputs": [],
   "source": [
    "X_train, X_test = quantile_trans(X_train, X_test)"
   ]
  },
  {
   "cell_type": "code",
   "execution_count": 62,
   "id": "0d5fb18d",
   "metadata": {
    "execution": {
     "iopub.execute_input": "2024-08-04T16:40:32.041022Z",
     "iopub.status.busy": "2024-08-04T16:40:32.040613Z",
     "iopub.status.idle": "2024-08-04T16:40:32.049528Z",
     "shell.execute_reply": "2024-08-04T16:40:32.048403Z"
    },
    "papermill": {
     "duration": 0.041903,
     "end_time": "2024-08-04T16:40:32.052094",
     "exception": false,
     "start_time": "2024-08-04T16:40:32.010191",
     "status": "completed"
    },
    "tags": []
   },
   "outputs": [],
   "source": [
    "X_tr, X_val, y_tr, y_val = train_test_split(\n",
    "      X_train\n",
    "    , y_train\n",
    "    , test_size = 0.2\n",
    "    , random_state = 72\n",
    ")\n"
   ]
  },
  {
   "cell_type": "code",
   "execution_count": 63,
   "id": "a76579d7",
   "metadata": {
    "execution": {
     "iopub.execute_input": "2024-08-04T16:40:32.112090Z",
     "iopub.status.busy": "2024-08-04T16:40:32.111687Z",
     "iopub.status.idle": "2024-08-04T16:40:32.118466Z",
     "shell.execute_reply": "2024-08-04T16:40:32.117318Z"
    },
    "papermill": {
     "duration": 0.039287,
     "end_time": "2024-08-04T16:40:32.120859",
     "exception": false,
     "start_time": "2024-08-04T16:40:32.081572",
     "status": "completed"
    },
    "tags": []
   },
   "outputs": [],
   "source": [
    "# 1 step : search space 설정, XGBosst 하이퍼파라미터들의 범위 지정\n",
    "xgb_search_space = {\n",
    "      'max_depth' : hp.quniform('max_depth', 4, 20, 1) # return float\n",
    "    , 'min_child_weight' : hp.quniform('min_child_weight', 1, 12, 0.5)\n",
    "    , 'learning_rate' : hp.uniform('learning_rate', 0.01, 0.2)\n",
    "    , 'colsample_bytree' : hp.uniform('colsample_bytree', 0.5, 1)\n",
    "}\n"
   ]
  },
  {
   "cell_type": "code",
   "execution_count": 64,
   "id": "4902ce65",
   "metadata": {
    "execution": {
     "iopub.execute_input": "2024-08-04T16:40:32.179211Z",
     "iopub.status.busy": "2024-08-04T16:40:32.178745Z",
     "iopub.status.idle": "2024-08-04T16:40:32.186220Z",
     "shell.execute_reply": "2024-08-04T16:40:32.185045Z"
    },
    "papermill": {
     "duration": 0.039696,
     "end_time": "2024-08-04T16:40:32.188757",
     "exception": false,
     "start_time": "2024-08-04T16:40:32.149061",
     "status": "completed"
    },
    "tags": []
   },
   "outputs": [],
   "source": [
    "# 2 step : objective function => return acccuracy, auc\n",
    "def objective_func(search_space):\n",
    "    xgb_clf = XGBClassifier(\n",
    "          n_estimators=500\n",
    "        , objective='binary:logistic'\n",
    "        , max_depth=int(search_space['max_depth'])\n",
    "        , min_child_weight=int(search_space['min_child_weight'])\n",
    "        , learning_rate=search_space['learning_rate']\n",
    "        , colsample_bytree=search_space['colsample_bytree']\n",
    "        , eval_metric='logloss'\n",
    "    )\n",
    "    accuracy = cross_val_score(\n",
    "          xgb_clf\n",
    "        , X_train\n",
    "        , y_train\n",
    "        , scoring='accuracy'\n",
    "        , cv=5\n",
    "    )\n",
    "    return {'loss':-1*np.mean(accuracy), 'status':STATUS_OK}"
   ]
  },
  {
   "cell_type": "code",
   "execution_count": 65,
   "id": "b5a86572",
   "metadata": {
    "execution": {
     "iopub.execute_input": "2024-08-04T16:40:32.247425Z",
     "iopub.status.busy": "2024-08-04T16:40:32.246658Z",
     "iopub.status.idle": "2024-08-04T16:41:28.001829Z",
     "shell.execute_reply": "2024-08-04T16:41:28.000872Z"
    },
    "papermill": {
     "duration": 55.788032,
     "end_time": "2024-08-04T16:41:28.004685",
     "exception": false,
     "start_time": "2024-08-04T16:40:32.216653",
     "status": "completed"
    },
    "tags": []
   },
   "outputs": [
    {
     "name": "stdout",
     "output_type": "stream",
     "text": [
      "100%|██████████| 50/50 [00:55<00:00,  1.11s/trial, best loss: -0.8563178708179022]\n"
     ]
    }
   ],
   "source": [
    "trial_val = Trials() # 결과 저장하는 객체\n",
    "best = fmin(\n",
    "      fn=objective_func\n",
    "    , space=xgb_search_space\n",
    "    , algo=tpe.suggest\n",
    "    , max_evals=50\n",
    "    , trials=trial_val # 중간 결과 저장\n",
    "    , rstate=np.random.default_rng(seed=72))"
   ]
  },
  {
   "cell_type": "code",
   "execution_count": 66,
   "id": "66ae76a6",
   "metadata": {
    "execution": {
     "iopub.execute_input": "2024-08-04T16:41:28.074903Z",
     "iopub.status.busy": "2024-08-04T16:41:28.074501Z",
     "iopub.status.idle": "2024-08-04T16:41:28.080655Z",
     "shell.execute_reply": "2024-08-04T16:41:28.079647Z"
    },
    "papermill": {
     "duration": 0.043992,
     "end_time": "2024-08-04T16:41:28.083440",
     "exception": false,
     "start_time": "2024-08-04T16:41:28.039448",
     "status": "completed"
    },
    "tags": []
   },
   "outputs": [
    {
     "name": "stdout",
     "output_type": "stream",
     "text": [
      "best : {'colsample_bytree': 0.788890500583923, 'learning_rate': 0.06368951791204792, 'max_depth': 8.0, 'min_child_weight': 9.5}\n",
      "best score : 0.8563\n"
     ]
    }
   ],
   "source": [
    "print(f'best : {best}')\n",
    "print(f'best score : {-1*trial_val.best_trial[\"result\"][\"loss\"]:.4f}')"
   ]
  },
  {
   "cell_type": "code",
   "execution_count": 67,
   "id": "3c49476f",
   "metadata": {
    "execution": {
     "iopub.execute_input": "2024-08-04T16:41:28.152149Z",
     "iopub.status.busy": "2024-08-04T16:41:28.151728Z",
     "iopub.status.idle": "2024-08-04T16:41:28.157976Z",
     "shell.execute_reply": "2024-08-04T16:41:28.156891Z"
    },
    "papermill": {
     "duration": 0.043256,
     "end_time": "2024-08-04T16:41:28.160426",
     "exception": false,
     "start_time": "2024-08-04T16:41:28.117170",
     "status": "completed"
    },
    "tags": []
   },
   "outputs": [],
   "source": [
    "xgb_clf = XGBClassifier(\n",
    "      n_estimatior=300\n",
    "    , objective='binary:logistic'\n",
    "    , learning_rate=np.round(best['learning_rate'],5)\n",
    "    , max_depth=int(best['max_depth'])\n",
    "    , min_child_weight=int(best['min_child_weight'])\n",
    "    , colsample_bytree=np.round(best['colsample_bytree'],5)\n",
    "    , early_stopping_rounds=100\n",
    "    , eval_metric='logloss'\n",
    ")"
   ]
  },
  {
   "cell_type": "code",
   "execution_count": 68,
   "id": "aa81f658",
   "metadata": {
    "execution": {
     "iopub.execute_input": "2024-08-04T16:41:28.231105Z",
     "iopub.status.busy": "2024-08-04T16:41:28.229933Z",
     "iopub.status.idle": "2024-08-04T16:41:28.658649Z",
     "shell.execute_reply": "2024-08-04T16:41:28.657644Z"
    },
    "papermill": {
     "duration": 0.466262,
     "end_time": "2024-08-04T16:41:28.661008",
     "exception": false,
     "start_time": "2024-08-04T16:41:28.194746",
     "status": "completed"
    },
    "tags": []
   },
   "outputs": [
    {
     "name": "stdout",
     "output_type": "stream",
     "text": [
      "[0]\tvalidation_0-logloss:0.63827\tvalidation_1-logloss:0.64514\n",
      "[1]\tvalidation_0-logloss:0.61433\tvalidation_1-logloss:0.62105\n",
      "[2]\tvalidation_0-logloss:0.59337\tvalidation_1-logloss:0.60020\n",
      "[3]\tvalidation_0-logloss:0.57489\tvalidation_1-logloss:0.58202\n",
      "[4]\tvalidation_0-logloss:0.55849\tvalidation_1-logloss:0.56610\n",
      "[5]\tvalidation_0-logloss:0.54413\tvalidation_1-logloss:0.55046\n",
      "[6]\tvalidation_0-logloss:0.53077\tvalidation_1-logloss:0.53680\n",
      "[7]\tvalidation_0-logloss:0.51869\tvalidation_1-logloss:0.52586\n",
      "[8]\tvalidation_0-logloss:0.50816\tvalidation_1-logloss:0.51304\n",
      "[9]\tvalidation_0-logloss:0.49839\tvalidation_1-logloss:0.50268\n",
      "[10]\tvalidation_0-logloss:0.48919\tvalidation_1-logloss:0.49361\n",
      "[11]\tvalidation_0-logloss:0.48074\tvalidation_1-logloss:0.48660\n",
      "[12]\tvalidation_0-logloss:0.47293\tvalidation_1-logloss:0.47883\n",
      "[13]\tvalidation_0-logloss:0.46587\tvalidation_1-logloss:0.47323\n",
      "[14]\tvalidation_0-logloss:0.45955\tvalidation_1-logloss:0.46721\n",
      "[15]\tvalidation_0-logloss:0.45487\tvalidation_1-logloss:0.46184\n",
      "[16]\tvalidation_0-logloss:0.44810\tvalidation_1-logloss:0.45411\n",
      "[17]\tvalidation_0-logloss:0.44283\tvalidation_1-logloss:0.44881\n",
      "[18]\tvalidation_0-logloss:0.43734\tvalidation_1-logloss:0.44327\n",
      "[19]\tvalidation_0-logloss:0.43288\tvalidation_1-logloss:0.43899\n",
      "[20]\tvalidation_0-logloss:0.42764\tvalidation_1-logloss:0.43436\n",
      "[21]\tvalidation_0-logloss:0.42409\tvalidation_1-logloss:0.43080\n",
      "[22]\tvalidation_0-logloss:0.41894\tvalidation_1-logloss:0.42663\n",
      "[23]\tvalidation_0-logloss:0.41521\tvalidation_1-logloss:0.42343\n",
      "[24]\tvalidation_0-logloss:0.41061\tvalidation_1-logloss:0.41959\n",
      "[25]\tvalidation_0-logloss:0.40724\tvalidation_1-logloss:0.41647\n",
      "[26]\tvalidation_0-logloss:0.40386\tvalidation_1-logloss:0.41461\n",
      "[27]\tvalidation_0-logloss:0.40035\tvalidation_1-logloss:0.41204\n",
      "[28]\tvalidation_0-logloss:0.39765\tvalidation_1-logloss:0.40956\n",
      "[29]\tvalidation_0-logloss:0.39497\tvalidation_1-logloss:0.40836\n",
      "[30]\tvalidation_0-logloss:0.39277\tvalidation_1-logloss:0.40601\n",
      "[31]\tvalidation_0-logloss:0.39108\tvalidation_1-logloss:0.40502\n",
      "[32]\tvalidation_0-logloss:0.38931\tvalidation_1-logloss:0.40378\n",
      "[33]\tvalidation_0-logloss:0.38782\tvalidation_1-logloss:0.40289\n",
      "[34]\tvalidation_0-logloss:0.38648\tvalidation_1-logloss:0.40225\n",
      "[35]\tvalidation_0-logloss:0.38479\tvalidation_1-logloss:0.40243\n",
      "[36]\tvalidation_0-logloss:0.38328\tvalidation_1-logloss:0.40114\n",
      "[37]\tvalidation_0-logloss:0.38189\tvalidation_1-logloss:0.39962\n",
      "[38]\tvalidation_0-logloss:0.38081\tvalidation_1-logloss:0.39890\n",
      "[39]\tvalidation_0-logloss:0.37955\tvalidation_1-logloss:0.39799\n",
      "[40]\tvalidation_0-logloss:0.37839\tvalidation_1-logloss:0.39692\n",
      "[41]\tvalidation_0-logloss:0.37717\tvalidation_1-logloss:0.39717\n",
      "[42]\tvalidation_0-logloss:0.37619\tvalidation_1-logloss:0.39618\n",
      "[43]\tvalidation_0-logloss:0.37514\tvalidation_1-logloss:0.39705\n",
      "[44]\tvalidation_0-logloss:0.37415\tvalidation_1-logloss:0.39595\n",
      "[45]\tvalidation_0-logloss:0.37322\tvalidation_1-logloss:0.39641\n",
      "[46]\tvalidation_0-logloss:0.37231\tvalidation_1-logloss:0.39694\n",
      "[47]\tvalidation_0-logloss:0.37146\tvalidation_1-logloss:0.39598\n",
      "[48]\tvalidation_0-logloss:0.37079\tvalidation_1-logloss:0.39657\n",
      "[49]\tvalidation_0-logloss:0.36983\tvalidation_1-logloss:0.39588\n",
      "[50]\tvalidation_0-logloss:0.36913\tvalidation_1-logloss:0.39559\n",
      "[51]\tvalidation_0-logloss:0.36858\tvalidation_1-logloss:0.39470\n"
     ]
    },
    {
     "name": "stderr",
     "output_type": "stream",
     "text": [
      "/opt/conda/lib/python3.10/site-packages/xgboost/core.py:160: UserWarning: [16:41:28] WARNING: /workspace/src/learner.cc:742: \n",
      "Parameters: { \"n_estimatior\" } are not used.\n",
      "\n",
      "  warnings.warn(smsg, UserWarning)\n"
     ]
    },
    {
     "name": "stdout",
     "output_type": "stream",
     "text": [
      "[52]\tvalidation_0-logloss:0.36792\tvalidation_1-logloss:0.39468\n",
      "[53]\tvalidation_0-logloss:0.36717\tvalidation_1-logloss:0.39424\n",
      "[54]\tvalidation_0-logloss:0.36625\tvalidation_1-logloss:0.39413\n",
      "[55]\tvalidation_0-logloss:0.36564\tvalidation_1-logloss:0.39390\n",
      "[56]\tvalidation_0-logloss:0.36504\tvalidation_1-logloss:0.39425\n",
      "[57]\tvalidation_0-logloss:0.36436\tvalidation_1-logloss:0.39385\n",
      "[58]\tvalidation_0-logloss:0.36370\tvalidation_1-logloss:0.39359\n",
      "[59]\tvalidation_0-logloss:0.36321\tvalidation_1-logloss:0.39361\n",
      "[60]\tvalidation_0-logloss:0.36260\tvalidation_1-logloss:0.39323\n",
      "[61]\tvalidation_0-logloss:0.36168\tvalidation_1-logloss:0.39261\n",
      "[62]\tvalidation_0-logloss:0.36121\tvalidation_1-logloss:0.39298\n",
      "[63]\tvalidation_0-logloss:0.36062\tvalidation_1-logloss:0.39283\n",
      "[64]\tvalidation_0-logloss:0.36013\tvalidation_1-logloss:0.39291\n",
      "[65]\tvalidation_0-logloss:0.35912\tvalidation_1-logloss:0.39235\n",
      "[66]\tvalidation_0-logloss:0.35851\tvalidation_1-logloss:0.39214\n",
      "[67]\tvalidation_0-logloss:0.35796\tvalidation_1-logloss:0.39149\n",
      "[68]\tvalidation_0-logloss:0.35744\tvalidation_1-logloss:0.39169\n",
      "[69]\tvalidation_0-logloss:0.35690\tvalidation_1-logloss:0.39151\n",
      "[70]\tvalidation_0-logloss:0.35651\tvalidation_1-logloss:0.39137\n",
      "[71]\tvalidation_0-logloss:0.35573\tvalidation_1-logloss:0.39149\n",
      "[72]\tvalidation_0-logloss:0.35528\tvalidation_1-logloss:0.39159\n",
      "[73]\tvalidation_0-logloss:0.35459\tvalidation_1-logloss:0.39173\n",
      "[74]\tvalidation_0-logloss:0.35418\tvalidation_1-logloss:0.39140\n",
      "[75]\tvalidation_0-logloss:0.35349\tvalidation_1-logloss:0.39101\n",
      "[76]\tvalidation_0-logloss:0.35296\tvalidation_1-logloss:0.39086\n",
      "[77]\tvalidation_0-logloss:0.35254\tvalidation_1-logloss:0.39036\n",
      "[78]\tvalidation_0-logloss:0.35228\tvalidation_1-logloss:0.39061\n",
      "[79]\tvalidation_0-logloss:0.35181\tvalidation_1-logloss:0.39065\n",
      "[80]\tvalidation_0-logloss:0.35146\tvalidation_1-logloss:0.39091\n",
      "[81]\tvalidation_0-logloss:0.35118\tvalidation_1-logloss:0.39050\n",
      "[82]\tvalidation_0-logloss:0.35080\tvalidation_1-logloss:0.39048\n",
      "[83]\tvalidation_0-logloss:0.35056\tvalidation_1-logloss:0.39030\n",
      "[84]\tvalidation_0-logloss:0.35008\tvalidation_1-logloss:0.39007\n",
      "[85]\tvalidation_0-logloss:0.34974\tvalidation_1-logloss:0.38980\n",
      "[86]\tvalidation_0-logloss:0.34935\tvalidation_1-logloss:0.38936\n",
      "[87]\tvalidation_0-logloss:0.34916\tvalidation_1-logloss:0.38923\n",
      "[88]\tvalidation_0-logloss:0.34879\tvalidation_1-logloss:0.38900\n",
      "[89]\tvalidation_0-logloss:0.34843\tvalidation_1-logloss:0.38916\n",
      "[90]\tvalidation_0-logloss:0.34819\tvalidation_1-logloss:0.38901\n",
      "[91]\tvalidation_0-logloss:0.34796\tvalidation_1-logloss:0.38898\n",
      "[92]\tvalidation_0-logloss:0.34759\tvalidation_1-logloss:0.38908\n",
      "[93]\tvalidation_0-logloss:0.34734\tvalidation_1-logloss:0.38881\n",
      "[94]\tvalidation_0-logloss:0.34689\tvalidation_1-logloss:0.38834\n",
      "[95]\tvalidation_0-logloss:0.34669\tvalidation_1-logloss:0.38789\n",
      "[96]\tvalidation_0-logloss:0.34636\tvalidation_1-logloss:0.38796\n",
      "[97]\tvalidation_0-logloss:0.34617\tvalidation_1-logloss:0.38866\n",
      "[98]\tvalidation_0-logloss:0.34596\tvalidation_1-logloss:0.38868\n",
      "[99]\tvalidation_0-logloss:0.34571\tvalidation_1-logloss:0.38819\n"
     ]
    },
    {
     "data": {
      "text/html": [
       "<style>#sk-container-id-1 {color: black;background-color: white;}#sk-container-id-1 pre{padding: 0;}#sk-container-id-1 div.sk-toggleable {background-color: white;}#sk-container-id-1 label.sk-toggleable__label {cursor: pointer;display: block;width: 100%;margin-bottom: 0;padding: 0.3em;box-sizing: border-box;text-align: center;}#sk-container-id-1 label.sk-toggleable__label-arrow:before {content: \"▸\";float: left;margin-right: 0.25em;color: #696969;}#sk-container-id-1 label.sk-toggleable__label-arrow:hover:before {color: black;}#sk-container-id-1 div.sk-estimator:hover label.sk-toggleable__label-arrow:before {color: black;}#sk-container-id-1 div.sk-toggleable__content {max-height: 0;max-width: 0;overflow: hidden;text-align: left;background-color: #f0f8ff;}#sk-container-id-1 div.sk-toggleable__content pre {margin: 0.2em;color: black;border-radius: 0.25em;background-color: #f0f8ff;}#sk-container-id-1 input.sk-toggleable__control:checked~div.sk-toggleable__content {max-height: 200px;max-width: 100%;overflow: auto;}#sk-container-id-1 input.sk-toggleable__control:checked~label.sk-toggleable__label-arrow:before {content: \"▾\";}#sk-container-id-1 div.sk-estimator input.sk-toggleable__control:checked~label.sk-toggleable__label {background-color: #d4ebff;}#sk-container-id-1 div.sk-label input.sk-toggleable__control:checked~label.sk-toggleable__label {background-color: #d4ebff;}#sk-container-id-1 input.sk-hidden--visually {border: 0;clip: rect(1px 1px 1px 1px);clip: rect(1px, 1px, 1px, 1px);height: 1px;margin: -1px;overflow: hidden;padding: 0;position: absolute;width: 1px;}#sk-container-id-1 div.sk-estimator {font-family: monospace;background-color: #f0f8ff;border: 1px dotted black;border-radius: 0.25em;box-sizing: border-box;margin-bottom: 0.5em;}#sk-container-id-1 div.sk-estimator:hover {background-color: #d4ebff;}#sk-container-id-1 div.sk-parallel-item::after {content: \"\";width: 100%;border-bottom: 1px solid gray;flex-grow: 1;}#sk-container-id-1 div.sk-label:hover label.sk-toggleable__label {background-color: #d4ebff;}#sk-container-id-1 div.sk-serial::before {content: \"\";position: absolute;border-left: 1px solid gray;box-sizing: border-box;top: 0;bottom: 0;left: 50%;z-index: 0;}#sk-container-id-1 div.sk-serial {display: flex;flex-direction: column;align-items: center;background-color: white;padding-right: 0.2em;padding-left: 0.2em;position: relative;}#sk-container-id-1 div.sk-item {position: relative;z-index: 1;}#sk-container-id-1 div.sk-parallel {display: flex;align-items: stretch;justify-content: center;background-color: white;position: relative;}#sk-container-id-1 div.sk-item::before, #sk-container-id-1 div.sk-parallel-item::before {content: \"\";position: absolute;border-left: 1px solid gray;box-sizing: border-box;top: 0;bottom: 0;left: 50%;z-index: -1;}#sk-container-id-1 div.sk-parallel-item {display: flex;flex-direction: column;z-index: 1;position: relative;background-color: white;}#sk-container-id-1 div.sk-parallel-item:first-child::after {align-self: flex-end;width: 50%;}#sk-container-id-1 div.sk-parallel-item:last-child::after {align-self: flex-start;width: 50%;}#sk-container-id-1 div.sk-parallel-item:only-child::after {width: 0;}#sk-container-id-1 div.sk-dashed-wrapped {border: 1px dashed gray;margin: 0 0.4em 0.5em 0.4em;box-sizing: border-box;padding-bottom: 0.4em;background-color: white;}#sk-container-id-1 div.sk-label label {font-family: monospace;font-weight: bold;display: inline-block;line-height: 1.2em;}#sk-container-id-1 div.sk-label-container {text-align: center;}#sk-container-id-1 div.sk-container {/* jupyter's `normalize.less` sets `[hidden] { display: none; }` but bootstrap.min.css set `[hidden] { display: none !important; }` so we also need the `!important` here to be able to override the default hidden behavior on the sphinx rendered scikit-learn.org. See: https://github.com/scikit-learn/scikit-learn/issues/21755 */display: inline-block !important;position: relative;}#sk-container-id-1 div.sk-text-repr-fallback {display: none;}</style><div id=\"sk-container-id-1\" class=\"sk-top-container\"><div class=\"sk-text-repr-fallback\"><pre>XGBClassifier(base_score=None, booster=None, callbacks=None,\n",
       "              colsample_bylevel=None, colsample_bynode=None,\n",
       "              colsample_bytree=0.78889, device=None, early_stopping_rounds=100,\n",
       "              enable_categorical=False, eval_metric=&#x27;logloss&#x27;,\n",
       "              feature_types=None, gamma=None, grow_policy=None,\n",
       "              importance_type=None, interaction_constraints=None,\n",
       "              learning_rate=0.06369, max_bin=None, max_cat_threshold=None,\n",
       "              max_cat_to_onehot=None, max_delta_step=None, max_depth=8,\n",
       "              max_leaves=None, min_child_weight=9, missing=nan,\n",
       "              monotone_constraints=None, multi_strategy=None, n_estimatior=300,\n",
       "              n_estimators=None, n_jobs=None, num_parallel_tree=None, ...)</pre><b>In a Jupyter environment, please rerun this cell to show the HTML representation or trust the notebook. <br />On GitHub, the HTML representation is unable to render, please try loading this page with nbviewer.org.</b></div><div class=\"sk-container\" hidden><div class=\"sk-item\"><div class=\"sk-estimator sk-toggleable\"><input class=\"sk-toggleable__control sk-hidden--visually\" id=\"sk-estimator-id-1\" type=\"checkbox\" checked><label for=\"sk-estimator-id-1\" class=\"sk-toggleable__label sk-toggleable__label-arrow\">XGBClassifier</label><div class=\"sk-toggleable__content\"><pre>XGBClassifier(base_score=None, booster=None, callbacks=None,\n",
       "              colsample_bylevel=None, colsample_bynode=None,\n",
       "              colsample_bytree=0.78889, device=None, early_stopping_rounds=100,\n",
       "              enable_categorical=False, eval_metric=&#x27;logloss&#x27;,\n",
       "              feature_types=None, gamma=None, grow_policy=None,\n",
       "              importance_type=None, interaction_constraints=None,\n",
       "              learning_rate=0.06369, max_bin=None, max_cat_threshold=None,\n",
       "              max_cat_to_onehot=None, max_delta_step=None, max_depth=8,\n",
       "              max_leaves=None, min_child_weight=9, missing=nan,\n",
       "              monotone_constraints=None, multi_strategy=None, n_estimatior=300,\n",
       "              n_estimators=None, n_jobs=None, num_parallel_tree=None, ...)</pre></div></div></div></div></div>"
      ],
      "text/plain": [
       "XGBClassifier(base_score=None, booster=None, callbacks=None,\n",
       "              colsample_bylevel=None, colsample_bynode=None,\n",
       "              colsample_bytree=0.78889, device=None, early_stopping_rounds=100,\n",
       "              enable_categorical=False, eval_metric='logloss',\n",
       "              feature_types=None, gamma=None, grow_policy=None,\n",
       "              importance_type=None, interaction_constraints=None,\n",
       "              learning_rate=0.06369, max_bin=None, max_cat_threshold=None,\n",
       "              max_cat_to_onehot=None, max_delta_step=None, max_depth=8,\n",
       "              max_leaves=None, min_child_weight=9, missing=nan,\n",
       "              monotone_constraints=None, multi_strategy=None, n_estimatior=300,\n",
       "              n_estimators=None, n_jobs=None, num_parallel_tree=None, ...)"
      ]
     },
     "execution_count": 68,
     "metadata": {},
     "output_type": "execute_result"
    }
   ],
   "source": [
    "evals = [(X_tr,y_tr),(X_val,y_val)]\n",
    "# 학습 진행\n",
    "xgb_clf.fit(\n",
    "      X_tr\n",
    "    , y_tr\n",
    "    ,eval_set=evals\n",
    "    , verbose=True\n",
    ")"
   ]
  },
  {
   "cell_type": "code",
   "execution_count": 69,
   "id": "f4ce2f3f",
   "metadata": {
    "execution": {
     "iopub.execute_input": "2024-08-04T16:41:28.750862Z",
     "iopub.status.busy": "2024-08-04T16:41:28.750450Z",
     "iopub.status.idle": "2024-08-04T16:41:28.759835Z",
     "shell.execute_reply": "2024-08-04T16:41:28.758970Z"
    },
    "papermill": {
     "duration": 0.057119,
     "end_time": "2024-08-04T16:41:28.762176",
     "exception": false,
     "start_time": "2024-08-04T16:41:28.705057",
     "status": "completed"
    },
    "tags": []
   },
   "outputs": [],
   "source": [
    "prec = xgb_clf.predict(X_test)"
   ]
  },
  {
   "cell_type": "code",
   "execution_count": 70,
   "id": "eb02b2d4",
   "metadata": {
    "execution": {
     "iopub.execute_input": "2024-08-04T16:41:28.853210Z",
     "iopub.status.busy": "2024-08-04T16:41:28.852748Z",
     "iopub.status.idle": "2024-08-04T16:41:28.858860Z",
     "shell.execute_reply": "2024-08-04T16:41:28.857731Z"
    },
    "papermill": {
     "duration": 0.053805,
     "end_time": "2024-08-04T16:41:28.861455",
     "exception": false,
     "start_time": "2024-08-04T16:41:28.807650",
     "status": "completed"
    },
    "tags": []
   },
   "outputs": [],
   "source": [
    "from xgboost import plot_importance\n",
    "def plot_feature_importance(xgb_clf=None):\n",
    "    fig, ax = plt.subplots(figsize=(10,8))\n",
    "    plot_importance(xgb_clf, ax=ax)\n",
    "    plt.show()\n",
    "    return"
   ]
  },
  {
   "cell_type": "code",
   "execution_count": 71,
   "id": "b6037c65",
   "metadata": {
    "execution": {
     "iopub.execute_input": "2024-08-04T16:41:28.951537Z",
     "iopub.status.busy": "2024-08-04T16:41:28.951144Z",
     "iopub.status.idle": "2024-08-04T16:41:29.324141Z",
     "shell.execute_reply": "2024-08-04T16:41:29.323060Z"
    },
    "papermill": {
     "duration": 0.42134,
     "end_time": "2024-08-04T16:41:29.326579",
     "exception": false,
     "start_time": "2024-08-04T16:41:28.905239",
     "status": "completed"
    },
    "tags": []
   },
   "outputs": [
    {
     "data": {
      "image/png": "[encoded data removed]",
      "text/plain": [
       "<Figure size 1000x800 with 1 Axes>"
      ]
     },
     "metadata": {},
     "output_type": "display_data"
    }
   ],
   "source": [
    "plot_feature_importance(xgb_clf)"
   ]
  },
  {
   "cell_type": "code",
   "execution_count": 72,
   "id": "d25f00ec",
   "metadata": {
    "execution": {
     "iopub.execute_input": "2024-08-04T16:41:29.416919Z",
     "iopub.status.busy": "2024-08-04T16:41:29.416486Z",
     "iopub.status.idle": "2024-08-04T16:41:29.423253Z",
     "shell.execute_reply": "2024-08-04T16:41:29.422171Z"
    },
    "papermill": {
     "duration": 0.054175,
     "end_time": "2024-08-04T16:41:29.425588",
     "exception": false,
     "start_time": "2024-08-04T16:41:29.371413",
     "status": "completed"
    },
    "tags": []
   },
   "outputs": [],
   "source": [
    "def make_submission_file(df_test=None, pred=None):\n",
    "    # 제출파일 => PassengerId, pred\n",
    "    submission = pd.DataFrame({\n",
    "        'PassengerId' : df_test['PassengerId'],\n",
    "        'Survived' : pred\n",
    "    })\n",
    "\n",
    "    submission['Survived'] = submission['Survived'].astype(int)\n",
    "\n",
    "    # 제출파일 저장\n",
    "    submission.to_csv('submission_xgb.csv', index=False)\n",
    "    print('저장이 완료 되었습니다.!')\n",
    "    return\n"
   ]
  },
  {
   "cell_type": "code",
   "execution_count": 73,
   "id": "c1246826",
   "metadata": {
    "execution": {
     "iopub.execute_input": "2024-08-04T16:41:29.516791Z",
     "iopub.status.busy": "2024-08-04T16:41:29.515748Z",
     "iopub.status.idle": "2024-08-04T16:41:29.526160Z",
     "shell.execute_reply": "2024-08-04T16:41:29.524860Z"
    },
    "papermill": {
     "duration": 0.059071,
     "end_time": "2024-08-04T16:41:29.528433",
     "exception": false,
     "start_time": "2024-08-04T16:41:29.469362",
     "status": "completed"
    },
    "tags": []
   },
   "outputs": [
    {
     "name": "stdout",
     "output_type": "stream",
     "text": [
      "저장이 완료 되었습니다.!\n"
     ]
    }
   ],
   "source": [
    "make_submission_file(titanic_test, prec)"
   ]
  }
 ],
 "metadata": {
  "kaggle": {
   "accelerator": "none",
   "dataSources": [
    {
     "databundleVersionId": 26502,
     "sourceId": 3136,
     "sourceType": "competition"
    }
   ],
   "dockerImageVersionId": 30746,
   "isGpuEnabled": false,
   "isInternetEnabled": true,
   "language": "python",
   "sourceType": "notebook"
  },
  "kernelspec": {
   "display_name": "Python 3",
   "language": "python",
   "name": "python3"
  },
  "language_info": {
   "codemirror_mode": {
    "name": "ipython",
    "version": 3
   },
   "file_extension": ".py",
   "mimetype": "text/x-python",
   "name": "python",
   "nbconvert_exporter": "python",
   "pygments_lexer": "ipython3",
   "version": "3.10.13"
  },
  "papermill": {
   "default_parameters": {},
   "duration": 73.377453,
   "end_time": "2024-08-04T16:41:30.298860",
   "environment_variables": {},
   "exception": null,
   "input_path": "__notebook__.ipynb",
   "output_path": "__notebook__.ipynb",
   "parameters": {},
   "start_time": "2024-08-04T16:40:16.921407",
   "version": "2.5.0"
  }
 },
 "nbformat": 4,
 "nbformat_minor": 5
}
